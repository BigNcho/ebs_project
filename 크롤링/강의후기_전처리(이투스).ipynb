{
 "cells": [
  {
   "cell_type": "code",
   "execution_count": 1,
   "metadata": {},
   "outputs": [],
   "source": [
    "import pandas as pd"
   ]
  },
  {
   "cell_type": "code",
   "execution_count": 2,
   "metadata": {},
   "outputs": [],
   "source": [
    "# 선생님마다 데이터프레임 생성하기 \n",
    "\n",
    "def df_num(df_list, df_list_name):\n",
    "    num = df_list['선생님이름'].nunique()\n",
    "    t_list = df_list['선생님이름'].unique().tolist()\n",
    "    names = f'{df_list_name}'\n",
    "    name = names[:-6]\n",
    "\n",
    "    for i in range(num):\n",
    "        globals()[f'{name}_{i+1}'] = df_list[df_list['선생님이름'] == t_list[i]]\n",
    "        globals()[f'{name}_{i+1}'].reset_index(drop=True, inplace=True)"
   ]
  },
  {
   "cell_type": "code",
   "execution_count": 3,
   "metadata": {},
   "outputs": [],
   "source": [
    "# 선생님 후기별 중복후기가 있는지 검사 \n",
    "\n",
    "def dup_test(df_list):\n",
    "    a = len(df_list)\n",
    "    b = len(df_list.drop_duplicates(['작성자이름', '강의제목']))\n",
    "    if a == b:\n",
    "        return print(\"중복없음\")\n",
    "    else :\n",
    "        return print(f'중복있음:{a-b}개')"
   ]
  },
  {
   "cell_type": "code",
   "execution_count": 13,
   "metadata": {},
   "outputs": [],
   "source": [
    "def df_dup_test(df_list, df_list_name):\n",
    "    num = df_list['선생님이름'].nunique()\n",
    "    names = f'{df_list_name}'\n",
    "    name = names[:-6]\n",
    "\n",
    "    for i in range(num):\n",
    "        dup_test(globals()[f'{name}_{i+1}'])"
   ]
  },
  {
   "cell_type": "code",
   "execution_count": 4,
   "metadata": {},
   "outputs": [],
   "source": [
    "def merge_review(df_list, df_list_name):\n",
    "    t_list = df_list['선생님이름'].unique().tolist()\n",
    "    num = df_list['선생님이름'].nunique()\n",
    "    names = f'{df_list_name}'\n",
    "    name = names[:-6]\n",
    "\n",
    "    korean_T = ['BangDongjin', 'KimMinjeong', 'SinYeonggyun',\n",
    "                'Geumeumdal', 'Jeongon', 'LeeJeonghun']\n",
    "    \n",
    "    math_T = ['JeongSeungje', 'LeeHayeong', 'GangYungu', 'ChaHyeonu', \n",
    "            'LeeJuyeong', 'KimDonghwan', 'LeeAyeong', 'HanJeongyun', \n",
    "            'KoJeongmin', 'KimYerim', 'NamgungYul']\n",
    "            \n",
    "    his_T = ['ChoeTaeseong', 'YangHuijin', 'KimJunchang']\n",
    "\n",
    "    if df_list_name == 'korean_clear':\n",
    "        T_name = korean_T\n",
    "    elif df_list_name == 'math_clear':\n",
    "        T_name = math_T\n",
    "    elif df_list_name == 'his_clear':\n",
    "        T_name = his_T\n",
    "    else:\n",
    "        print('잘못된 데이터프레임 들어옴')\n",
    "\n",
    "    for i in range(num):\n",
    "        globals()[f'{T_name[i]}'] = ''\n",
    "        for j in range(len(globals()[f'{name}_{i+1}'])):\n",
    "            globals()[f'{T_name[i]}'] += globals()[f'{name}_{i+1}']['수강평내용'][j]\n"
   ]
  },
  {
   "cell_type": "code",
   "execution_count": 5,
   "metadata": {},
   "outputs": [],
   "source": [
    "korean = pd.read_csv('이투스_국어.csv') # 360\n",
    "math = pd.read_csv('이투스_수학.csv') # 631\n",
    "his = pd.read_csv('이투스_한국사.csv') # 95"
   ]
  },
  {
   "cell_type": "code",
   "execution_count": 6,
   "metadata": {},
   "outputs": [],
   "source": [
    "# '나이' 크롤링이 잘 안된거 같기도 하고 대상강의랑 겹쳐 칼럼 삭제\n",
    "# 의미없는 맨 앞의 번호 모두 삭제 \n",
    "# 결측치는 없었음 \n",
    "# ebs 강의후기와 컬럼명과 컬럼순서를 맞춤 "
   ]
  },
  {
   "cell_type": "code",
   "execution_count": 7,
   "metadata": {},
   "outputs": [],
   "source": [
    "korean.drop(['Unnamed: 0', '나이'], axis=1, inplace=True)\n",
    "math.drop(['Unnamed: 0', '나이'], axis=1, inplace=True)\n",
    "his.drop(['Unnamed: 0', '나이'], axis=1, inplace=True)"
   ]
  },
  {
   "cell_type": "code",
   "execution_count": 8,
   "metadata": {},
   "outputs": [],
   "source": [
    "korean.rename(columns={'강의평내용':'수강평내용'}, inplace=True)\n",
    "math.rename(columns={'강의평내용':'수강평내용'}, inplace=True)\n",
    "his.rename(columns={'강의평내용':'수강평내용'}, inplace=True)"
   ]
  },
  {
   "cell_type": "code",
   "execution_count": 9,
   "metadata": {},
   "outputs": [],
   "source": [
    "korean_clear = korean[['선생님이름', '작성자이름', '작성일', '강의제목', '수강평제목', '수강평내용']]\n",
    "math_clear = math[['선생님이름', '작성자이름', '작성일', '강의제목', '수강평제목', '수강평내용']]\n",
    "his_clear = his[['선생님이름', '작성자이름', '작성일', '강의제목', '수강평제목', '수강평내용']]"
   ]
  },
  {
   "cell_type": "code",
   "execution_count": 10,
   "metadata": {},
   "outputs": [],
   "source": [
    "df_num(korean_clear, 'korean_clear')\n",
    "df_num(math_clear, 'math_clear')\n",
    "df_num(his_clear, 'his_clear')"
   ]
  },
  {
   "cell_type": "code",
   "execution_count": 14,
   "metadata": {},
   "outputs": [
    {
     "name": "stdout",
     "output_type": "stream",
     "text": [
      "중복없음\n",
      "중복있음:1개\n",
      "중복없음\n",
      "중복없음\n",
      "중복없음\n",
      "중복없음\n",
      "중복없음\n",
      "중복없음\n",
      "중복있음:1개\n",
      "중복없음\n",
      "중복없음\n",
      "중복있음:1개\n",
      "중복없음\n",
      "중복없음\n",
      "중복없음\n",
      "중복없음\n",
      "중복없음\n",
      "중복없음\n",
      "중복없음\n",
      "중복없음\n"
     ]
    }
   ],
   "source": [
    "df_dup_test(korean_clear, 'korean_clear')\n",
    "df_dup_test(math_clear, 'math_clear')\n",
    "df_dup_test(his_clear, 'his_clear')"
   ]
  },
  {
   "cell_type": "code",
   "execution_count": 15,
   "metadata": {},
   "outputs": [
    {
     "name": "stderr",
     "output_type": "stream",
     "text": [
      "C:\\Users\\BIG2-003-008\\AppData\\Local\\Temp\\ipykernel_29736\\518564277.py:1: SettingWithCopyWarning: \n",
      "A value is trying to be set on a copy of a slice from a DataFrame\n",
      "\n",
      "See the caveats in the documentation: https://pandas.pydata.org/pandas-docs/stable/user_guide/indexing.html#returning-a-view-versus-a-copy\n",
      "  korean_2.drop_duplicates(['작성자이름', '강의제목'], inplace=True)\n"
     ]
    }
   ],
   "source": [
    "korean_2.drop_duplicates(['작성자이름', '강의제목'], inplace=True)"
   ]
  },
  {
   "cell_type": "code",
   "execution_count": 16,
   "metadata": {},
   "outputs": [
    {
     "data": {
      "text/html": [
       "<div>\n",
       "<style scoped>\n",
       "    .dataframe tbody tr th:only-of-type {\n",
       "        vertical-align: middle;\n",
       "    }\n",
       "\n",
       "    .dataframe tbody tr th {\n",
       "        vertical-align: top;\n",
       "    }\n",
       "\n",
       "    .dataframe thead th {\n",
       "        text-align: right;\n",
       "    }\n",
       "</style>\n",
       "<table border=\"1\" class=\"dataframe\">\n",
       "  <thead>\n",
       "    <tr style=\"text-align: right;\">\n",
       "      <th></th>\n",
       "      <th>선생님이름</th>\n",
       "      <th>작성자이름</th>\n",
       "      <th>작성일</th>\n",
       "      <th>강의제목</th>\n",
       "      <th>수강평제목</th>\n",
       "      <th>수강평내용</th>\n",
       "    </tr>\n",
       "  </thead>\n",
       "  <tbody>\n",
       "    <tr>\n",
       "      <th>90</th>\n",
       "      <td>강윤구</td>\n",
       "      <td>이지은</td>\n",
       "      <td>2023.08.27</td>\n",
       "      <td>New 2024 4점공략법 ESSENTIAL 수학Ⅱ</td>\n",
       "      <td>4공법 수강후기</td>\n",
       "      <td>n수생이고 국어, 과탐 전부 일등급인데 맨날 수학이 발목잡았고, 나는 해도 안되나 ...</td>\n",
       "    </tr>\n",
       "  </tbody>\n",
       "</table>\n",
       "</div>"
      ],
      "text/plain": [
       "   선생님이름 작성자이름         작성일                          강의제목     수강평제목  \\\n",
       "90   강윤구   이지은  2023.08.27  New 2024 4점공략법 ESSENTIAL 수학Ⅱ  4공법 수강후기   \n",
       "\n",
       "                                                수강평내용  \n",
       "90  n수생이고 국어, 과탐 전부 일등급인데 맨날 수학이 발목잡았고, 나는 해도 안되나 ...  "
      ]
     },
     "execution_count": 16,
     "metadata": {},
     "output_type": "execute_result"
    }
   ],
   "source": [
    "math_3[math_3.duplicated(['작성자이름', '강의제목']) == True]"
   ]
  },
  {
   "cell_type": "code",
   "execution_count": 17,
   "metadata": {},
   "outputs": [
    {
     "data": {
      "text/html": [
       "<div>\n",
       "<style scoped>\n",
       "    .dataframe tbody tr th:only-of-type {\n",
       "        vertical-align: middle;\n",
       "    }\n",
       "\n",
       "    .dataframe tbody tr th {\n",
       "        vertical-align: top;\n",
       "    }\n",
       "\n",
       "    .dataframe thead th {\n",
       "        text-align: right;\n",
       "    }\n",
       "</style>\n",
       "<table border=\"1\" class=\"dataframe\">\n",
       "  <thead>\n",
       "    <tr style=\"text-align: right;\">\n",
       "      <th></th>\n",
       "      <th>선생님이름</th>\n",
       "      <th>작성자이름</th>\n",
       "      <th>작성일</th>\n",
       "      <th>강의제목</th>\n",
       "      <th>수강평제목</th>\n",
       "      <th>수강평내용</th>\n",
       "    </tr>\n",
       "  </thead>\n",
       "  <tbody>\n",
       "    <tr>\n",
       "      <th>76</th>\n",
       "      <td>강윤구</td>\n",
       "      <td>이지은</td>\n",
       "      <td>2023.08.29</td>\n",
       "      <td>New 2024 4점공략법 ESSENTIAL 미적분</td>\n",
       "      <td>강의는 고퀄 but 체화는 모두 나의 몫</td>\n",
       "      <td>수학인강을 들으면서 이렇게 효율적인 강의는 처음입니다\\n수능때 강윤구쌤 st 풀이를...</td>\n",
       "    </tr>\n",
       "    <tr>\n",
       "      <th>86</th>\n",
       "      <td>강윤구</td>\n",
       "      <td>이지은</td>\n",
       "      <td>2023.08.27</td>\n",
       "      <td>New 2024 4점공략법 ESSENTIAL 수학Ⅱ</td>\n",
       "      <td>난 분명 수학을 배우러왔을 뿐인데 수능 공부에 대한 태도가 바뀜</td>\n",
       "      <td>강윤구쌤은 진정한 시험 공략법 전도사이십니다.\\n무지성 풀이 x -&gt;결코 흔들리지 ...</td>\n",
       "    </tr>\n",
       "    <tr>\n",
       "      <th>89</th>\n",
       "      <td>강윤구</td>\n",
       "      <td>이지은</td>\n",
       "      <td>2023.08.27</td>\n",
       "      <td>New 2024 4점공략법 ESSENTIAL 수학Ⅰ</td>\n",
       "      <td>어? 이게 풀리네?</td>\n",
       "      <td>무지성 풀이로 어기영차해서 맞추던 사람입니다\\n무지성 풀이가 저와 같이 몸에 밴 분...</td>\n",
       "    </tr>\n",
       "    <tr>\n",
       "      <th>90</th>\n",
       "      <td>강윤구</td>\n",
       "      <td>이지은</td>\n",
       "      <td>2023.08.27</td>\n",
       "      <td>New 2024 4점공략법 ESSENTIAL 수학Ⅱ</td>\n",
       "      <td>4공법 수강후기</td>\n",
       "      <td>n수생이고 국어, 과탐 전부 일등급인데 맨날 수학이 발목잡았고, 나는 해도 안되나 ...</td>\n",
       "    </tr>\n",
       "  </tbody>\n",
       "</table>\n",
       "</div>"
      ],
      "text/plain": [
       "   선생님이름 작성자이름         작성일                          강의제목  \\\n",
       "76   강윤구   이지은  2023.08.29  New 2024 4점공략법 ESSENTIAL 미적분   \n",
       "86   강윤구   이지은  2023.08.27  New 2024 4점공략법 ESSENTIAL 수학Ⅱ   \n",
       "89   강윤구   이지은  2023.08.27  New 2024 4점공략법 ESSENTIAL 수학Ⅰ   \n",
       "90   강윤구   이지은  2023.08.27  New 2024 4점공략법 ESSENTIAL 수학Ⅱ   \n",
       "\n",
       "                                  수강평제목  \\\n",
       "76               강의는 고퀄 but 체화는 모두 나의 몫   \n",
       "86  난 분명 수학을 배우러왔을 뿐인데 수능 공부에 대한 태도가 바뀜   \n",
       "89                           어? 이게 풀리네?   \n",
       "90                             4공법 수강후기   \n",
       "\n",
       "                                                수강평내용  \n",
       "76  수학인강을 들으면서 이렇게 효율적인 강의는 처음입니다\\n수능때 강윤구쌤 st 풀이를...  \n",
       "86  강윤구쌤은 진정한 시험 공략법 전도사이십니다.\\n무지성 풀이 x ->결코 흔들리지 ...  \n",
       "89  무지성 풀이로 어기영차해서 맞추던 사람입니다\\n무지성 풀이가 저와 같이 몸에 밴 분...  \n",
       "90  n수생이고 국어, 과탐 전부 일등급인데 맨날 수학이 발목잡았고, 나는 해도 안되나 ...  "
      ]
     },
     "execution_count": 17,
     "metadata": {},
     "output_type": "execute_result"
    }
   ],
   "source": [
    "math_3[math_3['작성자이름']=='이지은']"
   ]
  },
  {
   "cell_type": "code",
   "execution_count": 18,
   "metadata": {},
   "outputs": [
    {
     "data": {
      "text/plain": [
       "86    강윤구쌤은 진정한 시험 공략법 전도사이십니다.\\n무지성 풀이 x ->결코 흔들리지 ...\n",
       "90    n수생이고 국어, 과탐 전부 일등급인데 맨날 수학이 발목잡았고, 나는 해도 안되나 ...\n",
       "Name: 수강평내용, dtype: object"
      ]
     },
     "execution_count": 18,
     "metadata": {},
     "output_type": "execute_result"
    }
   ],
   "source": [
    "math_3_dup = math_3[math_3['작성자이름']=='이지은']\n",
    "math_3_dup[math_3_dup['강의제목']=='New 2024 4점공략법 ESSENTIAL 수학Ⅱ']['수강평내용']"
   ]
  },
  {
   "cell_type": "code",
   "execution_count": 19,
   "metadata": {},
   "outputs": [
    {
     "name": "stdout",
     "output_type": "stream",
     "text": [
      "강윤구쌤은 진정한 시험 공략법 전도사이십니다.\n",
      "무지성 풀이 x ->결코 흔들리지 않을 행동영역 정립에 대한 태도로 공부를 하니\n",
      "어떤 문제가 나와도 일관된 접근으로 풀 수 있단 자신감이 생깁니다.\n",
      "시기는 중요치 않다 !!! 미친듯이 회독하고 체화하겠습니다. (나한테 하는 말)\n",
      "n수생이고 국어, 과탐 전부 일등급인데 맨날 수학이 발목잡았고, 나는 해도 안되나 싶다가 마지막으로 한번만 더 믿어보자 하고 공부법특강, 루트, 에센셜, 기출구, 노하우, 루틴n제....강윤구 t 풀커리를 탔습니다. 아 물론 시키는대로 하니까 6평점수도 잘 나오고 문제가 다 똑같이 느껴지는 경험을 할 수 있어서 계속 믿고 따라간 겁니다. 에센셜 n제는 문제가 너무 많아서....아직도 푸는 중... 모든 강의가 띵강이었지만, 가장 도움이 되었던 에센셜 수2에 수강후기 남깁니다. 에센셜 수2 잘 들어놓으면 미적도 너무 편하기 때문!!\n",
      "\n",
      "4공법 에센셜은 말 그대로 4점 공략법 강의로, 도구정리, 개념 정리의 수준을 넘어서 가장 높은 수준에서의 사고를 선생님께서 대신 정리해주십니다. 선생님께서 말하는 잘못 학습하는 사람 특= 한 문제에 여러풀이를 보고 익히려한다던지, 어디서 주워들은 잡지식들.... 다 너무 저라서 조금 부끄럽고 윤구쌤 알았으면 진작에 수능판 탈출했을텐데 하고 좀 억울했습니다. 이 수강후기를 보고 있는 다른 분들이라면, 윤구쌤 시키는대로 하시길ㅠ\n",
      "\n",
      "어쨌든 모의고사 치다가 막히면 어버버하고 같은 계산만 되풀이하면서 시간 썼던 제가 문제 표현을 보고 4공법 적용 후 답 도출해내게 된 건 4공법 덕이 큽니다. 그리고 이게 수학성적 향상만의 문제가 아니고, 선생님께서 tcc로든 공지로든 공부법이나 조언들 해주시는거 듣고 하니까 지금 수능 80일정도 남은 시점인데, 이렇게 마음이 편했던 수능 80일 전이 없었는데 지금 그래요. 수학 성적이 올라서 나에 대한 믿음이 생긴건지, 아니면 공부법 특강 듣고 그렇게 해서 맘이 편한건지 정확하게는 모르겠지만, 시간이 넉넉하지 않아 쓴 짧은 수강후기에 선생님께 감사하다는 말씀드리고 싶네요 하하하하\n"
     ]
    }
   ],
   "source": [
    "cont_1 = math_3.loc[86, '수강평내용']\n",
    "cont_2 = math_3.loc[90, '수강평내용']\n",
    "cont = cont_1 + '\\n' + cont_2\n",
    "print(cont)"
   ]
  },
  {
   "cell_type": "code",
   "execution_count": 20,
   "metadata": {},
   "outputs": [
    {
     "name": "stderr",
     "output_type": "stream",
     "text": [
      "C:\\Users\\BIG2-003-008\\AppData\\Local\\Temp\\ipykernel_29736\\2303539979.py:1: SettingWithCopyWarning: \n",
      "A value is trying to be set on a copy of a slice from a DataFrame\n",
      "\n",
      "See the caveats in the documentation: https://pandas.pydata.org/pandas-docs/stable/user_guide/indexing.html#returning-a-view-versus-a-copy\n",
      "  math_3.loc[86, '수강평내용'] = cont\n"
     ]
    }
   ],
   "source": [
    "math_3.loc[86, '수강평내용'] = cont"
   ]
  },
  {
   "cell_type": "code",
   "execution_count": 21,
   "metadata": {},
   "outputs": [
    {
     "name": "stderr",
     "output_type": "stream",
     "text": [
      "C:\\Users\\BIG2-003-008\\AppData\\Local\\Temp\\ipykernel_29736\\4139558241.py:1: SettingWithCopyWarning: \n",
      "A value is trying to be set on a copy of a slice from a DataFrame\n",
      "\n",
      "See the caveats in the documentation: https://pandas.pydata.org/pandas-docs/stable/user_guide/indexing.html#returning-a-view-versus-a-copy\n",
      "  math_3.drop(90, inplace = True)\n"
     ]
    }
   ],
   "source": [
    "math_3.drop(90, inplace = True)"
   ]
  },
  {
   "cell_type": "code",
   "execution_count": 22,
   "metadata": {},
   "outputs": [
    {
     "data": {
      "text/plain": [
       "86    강윤구쌤은 진정한 시험 공략법 전도사이십니다.\\n무지성 풀이 x ->결코 흔들리지 ...\n",
       "Name: 수강평내용, dtype: object"
      ]
     },
     "execution_count": 22,
     "metadata": {},
     "output_type": "execute_result"
    }
   ],
   "source": [
    "math_3_dup = math_3[math_3['작성자이름']=='이지은']\n",
    "math_3_dup[math_3_dup['강의제목']=='New 2024 4점공략법 ESSENTIAL 수학Ⅱ']['수강평내용']"
   ]
  },
  {
   "cell_type": "code",
   "execution_count": 23,
   "metadata": {},
   "outputs": [
    {
     "data": {
      "text/html": [
       "<div>\n",
       "<style scoped>\n",
       "    .dataframe tbody tr th:only-of-type {\n",
       "        vertical-align: middle;\n",
       "    }\n",
       "\n",
       "    .dataframe tbody tr th {\n",
       "        vertical-align: top;\n",
       "    }\n",
       "\n",
       "    .dataframe thead th {\n",
       "        text-align: right;\n",
       "    }\n",
       "</style>\n",
       "<table border=\"1\" class=\"dataframe\">\n",
       "  <thead>\n",
       "    <tr style=\"text-align: right;\">\n",
       "      <th></th>\n",
       "      <th>선생님이름</th>\n",
       "      <th>작성자이름</th>\n",
       "      <th>작성일</th>\n",
       "      <th>강의제목</th>\n",
       "      <th>수강평제목</th>\n",
       "      <th>수강평내용</th>\n",
       "    </tr>\n",
       "  </thead>\n",
       "  <tbody>\n",
       "    <tr>\n",
       "      <th>8</th>\n",
       "      <td>김동환</td>\n",
       "      <td>이규용</td>\n",
       "      <td>2023.04.16</td>\n",
       "      <td>[무료특강] 동환쌤의 도형문제 3강으로 끝내기</td>\n",
       "      <td>수강후기</td>\n",
       "      <td>제가 도형이 정말 약해서 이 강좌를 들었는데 진짜 많은 것들을 얻어갈 수 있었습니다...</td>\n",
       "    </tr>\n",
       "  </tbody>\n",
       "</table>\n",
       "</div>"
      ],
      "text/plain": [
       "  선생님이름 작성자이름         작성일                       강의제목 수강평제목  \\\n",
       "8   김동환   이규용  2023.04.16  [무료특강] 동환쌤의 도형문제 3강으로 끝내기  수강후기   \n",
       "\n",
       "                                               수강평내용  \n",
       "8  제가 도형이 정말 약해서 이 강좌를 들었는데 진짜 많은 것들을 얻어갈 수 있었습니다...  "
      ]
     },
     "execution_count": 23,
     "metadata": {},
     "output_type": "execute_result"
    }
   ],
   "source": [
    "math_6[math_6.duplicated(['작성자이름', '강의제목']) == True]"
   ]
  },
  {
   "cell_type": "code",
   "execution_count": 24,
   "metadata": {},
   "outputs": [
    {
     "data": {
      "text/html": [
       "<div>\n",
       "<style scoped>\n",
       "    .dataframe tbody tr th:only-of-type {\n",
       "        vertical-align: middle;\n",
       "    }\n",
       "\n",
       "    .dataframe tbody tr th {\n",
       "        vertical-align: top;\n",
       "    }\n",
       "\n",
       "    .dataframe thead th {\n",
       "        text-align: right;\n",
       "    }\n",
       "</style>\n",
       "<table border=\"1\" class=\"dataframe\">\n",
       "  <thead>\n",
       "    <tr style=\"text-align: right;\">\n",
       "      <th></th>\n",
       "      <th>선생님이름</th>\n",
       "      <th>작성자이름</th>\n",
       "      <th>작성일</th>\n",
       "      <th>강의제목</th>\n",
       "      <th>수강평제목</th>\n",
       "      <th>수강평내용</th>\n",
       "    </tr>\n",
       "  </thead>\n",
       "  <tbody>\n",
       "    <tr>\n",
       "      <th>6</th>\n",
       "      <td>김동환</td>\n",
       "      <td>이규용</td>\n",
       "      <td>2023.04.16</td>\n",
       "      <td>[무료특강] 동환쌤의 도형문제 3강으로 끝내기</td>\n",
       "      <td>최고에여</td>\n",
       "      <td>이 강의를 통해 도형 울렁증을 극복했습니다. 저는 도형만 나오면 진짜 피하기 바쁘고...</td>\n",
       "    </tr>\n",
       "    <tr>\n",
       "      <th>8</th>\n",
       "      <td>김동환</td>\n",
       "      <td>이규용</td>\n",
       "      <td>2023.04.16</td>\n",
       "      <td>[무료특강] 동환쌤의 도형문제 3강으로 끝내기</td>\n",
       "      <td>수강후기</td>\n",
       "      <td>제가 도형이 정말 약해서 이 강좌를 들었는데 진짜 많은 것들을 얻어갈 수 있었습니다...</td>\n",
       "    </tr>\n",
       "  </tbody>\n",
       "</table>\n",
       "</div>"
      ],
      "text/plain": [
       "  선생님이름 작성자이름         작성일                       강의제목 수강평제목  \\\n",
       "6   김동환   이규용  2023.04.16  [무료특강] 동환쌤의 도형문제 3강으로 끝내기  최고에여   \n",
       "8   김동환   이규용  2023.04.16  [무료특강] 동환쌤의 도형문제 3강으로 끝내기  수강후기   \n",
       "\n",
       "                                               수강평내용  \n",
       "6  이 강의를 통해 도형 울렁증을 극복했습니다. 저는 도형만 나오면 진짜 피하기 바쁘고...  \n",
       "8  제가 도형이 정말 약해서 이 강좌를 들었는데 진짜 많은 것들을 얻어갈 수 있었습니다...  "
      ]
     },
     "execution_count": 24,
     "metadata": {},
     "output_type": "execute_result"
    }
   ],
   "source": [
    "math_6[math_6['작성자이름']=='이규용']"
   ]
  },
  {
   "cell_type": "code",
   "execution_count": 25,
   "metadata": {},
   "outputs": [
    {
     "name": "stdout",
     "output_type": "stream",
     "text": [
      "이 강의를 통해 도형 울렁증을 극복했습니다. 저는 도형만 나오면 진짜 피하기 바쁘고 찍고 그랬는데 이번 계기를 통해서 어느정도는 도형 문제에 대한 대처법을 터득한 것 같습니다. 생각보다 그렇게 어렵지도 않고 제대로 된 원리와 방법만 알면 오히려 더 쉽게 풀 수도 있는 것 같아 신기했습니다. 별로 기대를 하지 않고 들어서 그런지 몰라도 너무 좋았습니다. 3강을 한번에 다 듣고 나서 도형 문제가 해결된 것 같아 신기합니다. 그만큼 선생님이 설명을 잘 해주시고 수학을 잘 하셔서 가능하신 것 같습니다. 너무 감사드립니다. 다른 강의들도 기회가 된다면 수강 후 후기로 다시 찾아 뵙겠습니다.\n",
      "제가 도형이 정말 약해서 이 강좌를 들었는데 진짜 많은 것들을 얻어갈 수 있었습니다. 무료 특강인데도 불구하고 선생님이 너무 친절하게 설명도 잘 해주시고 그러셔서 유료 특강 못지 않은 퀄리티의 강좌라고 생각합니다. 저처럼 도형이 약하신 분들은 한번쯤 꼭 들어보는 것을 추천드립니다. 강좌수도 많지 않아 한번에 다 듣기에도 부담스럽지 않습니다. 속는셈 치고 한번 들으시면 다른 강의들도 들어보고 싶으실 겁니다. 감사해여 선생님!\n"
     ]
    }
   ],
   "source": [
    "cont_1 = math_6.loc[6, '수강평내용']\n",
    "cont_2 = math_6.loc[8, '수강평내용']\n",
    "cont = cont_1 + '\\n' + cont_2\n",
    "print(cont)"
   ]
  },
  {
   "cell_type": "code",
   "execution_count": 26,
   "metadata": {},
   "outputs": [
    {
     "name": "stderr",
     "output_type": "stream",
     "text": [
      "C:\\Users\\BIG2-003-008\\AppData\\Local\\Temp\\ipykernel_29736\\3195450184.py:1: SettingWithCopyWarning: \n",
      "A value is trying to be set on a copy of a slice from a DataFrame\n",
      "\n",
      "See the caveats in the documentation: https://pandas.pydata.org/pandas-docs/stable/user_guide/indexing.html#returning-a-view-versus-a-copy\n",
      "  math_6.loc[6, '수강평내용'] = cont\n",
      "C:\\Users\\BIG2-003-008\\AppData\\Local\\Temp\\ipykernel_29736\\3195450184.py:2: SettingWithCopyWarning: \n",
      "A value is trying to be set on a copy of a slice from a DataFrame\n",
      "\n",
      "See the caveats in the documentation: https://pandas.pydata.org/pandas-docs/stable/user_guide/indexing.html#returning-a-view-versus-a-copy\n",
      "  math_6.drop(8, inplace = True)\n"
     ]
    }
   ],
   "source": [
    "math_6.loc[6, '수강평내용'] = cont\n",
    "math_6.drop(8, inplace = True)"
   ]
  },
  {
   "cell_type": "code",
   "execution_count": 27,
   "metadata": {},
   "outputs": [
    {
     "data": {
      "text/html": [
       "<div>\n",
       "<style scoped>\n",
       "    .dataframe tbody tr th:only-of-type {\n",
       "        vertical-align: middle;\n",
       "    }\n",
       "\n",
       "    .dataframe tbody tr th {\n",
       "        vertical-align: top;\n",
       "    }\n",
       "\n",
       "    .dataframe thead th {\n",
       "        text-align: right;\n",
       "    }\n",
       "</style>\n",
       "<table border=\"1\" class=\"dataframe\">\n",
       "  <thead>\n",
       "    <tr style=\"text-align: right;\">\n",
       "      <th></th>\n",
       "      <th>선생님이름</th>\n",
       "      <th>작성자이름</th>\n",
       "      <th>작성일</th>\n",
       "      <th>강의제목</th>\n",
       "      <th>수강평제목</th>\n",
       "      <th>수강평내용</th>\n",
       "    </tr>\n",
       "  </thead>\n",
       "  <tbody>\n",
       "    <tr>\n",
       "      <th>6</th>\n",
       "      <td>김동환</td>\n",
       "      <td>이규용</td>\n",
       "      <td>2023.04.16</td>\n",
       "      <td>[무료특강] 동환쌤의 도형문제 3강으로 끝내기</td>\n",
       "      <td>최고에여</td>\n",
       "      <td>이 강의를 통해 도형 울렁증을 극복했습니다. 저는 도형만 나오면 진짜 피하기 바쁘고...</td>\n",
       "    </tr>\n",
       "  </tbody>\n",
       "</table>\n",
       "</div>"
      ],
      "text/plain": [
       "  선생님이름 작성자이름         작성일                       강의제목 수강평제목  \\\n",
       "6   김동환   이규용  2023.04.16  [무료특강] 동환쌤의 도형문제 3강으로 끝내기  최고에여   \n",
       "\n",
       "                                               수강평내용  \n",
       "6  이 강의를 통해 도형 울렁증을 극복했습니다. 저는 도형만 나오면 진짜 피하기 바쁘고...  "
      ]
     },
     "execution_count": 27,
     "metadata": {},
     "output_type": "execute_result"
    }
   ],
   "source": [
    "math_6[math_6['작성자이름']=='이규용']"
   ]
  },
  {
   "cell_type": "code",
   "execution_count": 28,
   "metadata": {},
   "outputs": [
    {
     "name": "stdout",
     "output_type": "stream",
     "text": [
      "중복없음\n",
      "중복없음\n",
      "중복없음\n",
      "중복없음\n",
      "중복없음\n",
      "중복없음\n",
      "중복없음\n",
      "중복없음\n",
      "중복없음\n",
      "중복없음\n",
      "중복없음\n",
      "중복없음\n",
      "중복없음\n",
      "중복없음\n",
      "중복없음\n",
      "중복없음\n",
      "중복없음\n",
      "중복없음\n",
      "중복없음\n",
      "중복없음\n"
     ]
    }
   ],
   "source": [
    "df_dup_test(korean_clear, 'korean_clear')\n",
    "df_dup_test(math_clear, 'math_clear')\n",
    "df_dup_test(his_clear, 'his_clear')"
   ]
  },
  {
   "cell_type": "code",
   "execution_count": 29,
   "metadata": {},
   "outputs": [],
   "source": [
    "# 1명: 똑같은 후기 작성 - 1개 삭제\n",
    "# 나머지 2개는 다른 내용 후기를 같은 강의에 2번씩 적어서 \n",
    "# 두 후기 내용을 합친 후 하나는 삭제함 "
   ]
  },
  {
   "cell_type": "code",
   "execution_count": 30,
   "metadata": {},
   "outputs": [],
   "source": [
    "# 중복제거 완료  "
   ]
  },
  {
   "cell_type": "code",
   "execution_count": 31,
   "metadata": {},
   "outputs": [],
   "source": [
    "# 선생님들의 리뷰를 하나로 묶음 "
   ]
  },
  {
   "cell_type": "code",
   "execution_count": 32,
   "metadata": {},
   "outputs": [],
   "source": [
    "korean_2.reset_index(drop=True, inplace=True)\n",
    "math_3.reset_index(drop=True, inplace=True)\n",
    "math_6.reset_index(drop=True, inplace=True)"
   ]
  },
  {
   "cell_type": "code",
   "execution_count": 33,
   "metadata": {},
   "outputs": [],
   "source": [
    "merge_review(korean_clear, 'korean_clear')\n",
    "merge_review(math_clear, 'math_clear')\n",
    "merge_review(his_clear, 'his_clear')"
   ]
  },
  {
   "cell_type": "code",
   "execution_count": 34,
   "metadata": {},
   "outputs": [],
   "source": [
    "# 일단 1선생님만. 나중에 함수화해서 다 할거임 \n",
    "\n",
    "# 특수기호 제거\n",
    "stop_words = ['(', ')', '!', 'ㅠ', 'ㅋ']\n",
    "for i in stop_words:    \n",
    "    BangDongjin = BangDongjin.replace(i, '')\n",
    "\n",
    "# 여러 점은 하나의 점으로\n",
    "point_words = ['..', '...', '\\n']\n",
    "for j in point_words:    \n",
    "    BangDongjin = BangDongjin.replace(j, '')\n",
    "\n",
    "# 불필요한 문장 제거\n",
    "stop_sentence = ['감사합니다', '안녕하세요']\n",
    "for k in stop_sentence:    \n",
    "    BangDongjin = BangDongjin.replace(k, '.')"
   ]
  },
  {
   "cell_type": "markdown",
   "metadata": {},
   "source": [
    "문장 토큰화에는 크게 2가지 방법이 있는데, \n",
    "nltk와 kss가 있음. 초반에는 kss 문장 토큰화를 할 생각이었는데, \n",
    "nltk가 kss에 비해 문장이 세세하게 나누어지지않는거 같아서 kss를 선택했으나 kss는 너무 문장을 나누어 오히려 문장 하나하나마다 이어지지않음. nltk는 그것을 고려해서 나누는 느낌을 받음. 또한 속도도 훨씬 빠름 "
   ]
  },
  {
   "cell_type": "code",
   "execution_count": null,
   "metadata": {},
   "outputs": [],
   "source": [
    "# 문장토큰화 \n",
    "from nltk import sent_tokenize\n",
    "\n",
    "Taeseong = sent_tokenize(ChoeTaeseong)\n",
    "Taeseong.to_csv('taeseong.csv', index=False)"
   ]
  },
  {
   "cell_type": "code",
   "execution_count": 35,
   "metadata": {},
   "outputs": [
    {
     "name": "stderr",
     "output_type": "stream",
     "text": [
      "[Kss]: Because there's no supported C++ morpheme analyzer, Kss will take pecab as a backend. :D\n",
      "For your information, Kss also supports mecab backend.\n",
      "We recommend you to install mecab or konlpy.tag.Mecab for faster execution of Kss.\n",
      "Please refer to following web sites for details:\n",
      "- mecab: https://cleancode-ws.tistory.com/97\n",
      "- konlpy.tag.Mecab: https://uwgdqo.tistory.com/363\n",
      "\n"
     ]
    }
   ],
   "source": [
    "# 문장토큰화 \n",
    "\n",
    "import kss\n",
    "\n",
    "Dongjin = kss.split_sentences(BangDongjin)"
   ]
  },
  {
   "cell_type": "code",
   "execution_count": 36,
   "metadata": {},
   "outputs": [
    {
     "data": {
      "text/plain": [
       "['선생님께서 문제 풀이 포인트를 잘 알려주셔서 큰 어려움 없이 화작을 풀 수 있었습니다.',\n",
       " '교재 분량도 적어서 부담이 적었고요.',\n",
       " '모고 때 항상 한두 개씩 틀려서 불안했는데 수능 때 1개만 틀린 걸로 만족하려고요.',\n",
       " '비문학에서 많이 틀린 게 아쉽네요.',\n",
       " '언매 고3 기출을 풀때 반은 틀리고 반은 찍어서맞고 이런 상태였고 화작은 하고싶지가 않아서 인강을 듣기로 결심했습니다..',\n",
       " '강의할 때 세세하게 설명을 해주셔서 정말 좋았어요',\n",
       " '요즘은 기출을 풀어도 집중안해서 제대로 안읽어서이건 제가 고쳐야하는 부분 틀리는 것 밖에 없어서 아주 만족합니다 .',\n",
       " '이제 문학 연계작품은 틀릴이유가 없습니다.',\n",
       " '수능 잘보고 돌아올게여',\n",
       " '일단 방동진 쌤을 모르고 있었던 고1인데 제가 자퇴를 해서 재수학원에 들어와서 쌤 강의를 듣게 되었는데 첨 강의부터 지금까지 후회없이 잘 들었다고 생각을 하고 있습니다..',\n",
       " '감사하다는 말씀드리고 싶고 정말 하나하나 세심하게 알려주셔서 이해도 잘되고 재밌게 들을 수 있었던것 같아요',\n",
       " '국어를 좋아하는 편도 아니고 원래 문법이 약하고 어려웠었는데 저도 언매를 다 들었다는게 놀랍고 더 열심히 문제도 풀어봐야 겠다고 생각했어요',\n",
       " '정말 수능볼때까지 감사한 마음으로 공부해서 더 좋은 결과로 돌아오겠습니다.',\n",
       " '들으면 도움됩니다.',\n",
       " '기본기를 쌓는데 도움됩니다',\n",
       " '작년도 수능 야무지게 말아먹고 다시 준비중인 화작러 독재생입니다.',\n",
       " '평소 비문학은 꽤 자신있는편이었는데 항상 문학이 너무 어려웠습니다.',\n",
       " '고전시가랑 현대시만 나오면 그냥 평가원한테 뺨다구 여러대 맞았는데요.',\n",
       " '그래서 ebs 연계부터 확실히 잡자라는 마인드로 수강했는데.',\n",
       " '교재받고 깜짝놀랐습니다',\n",
       " '왜 ot에서 쌤이 강조하시는지 이해가 되더라구요.',\n",
       " '퀄리티가 진짜 좋습니다',\n",
       " '강의 못들어도 교재는 사고싶을정도로요.',\n",
       " '중학교 시절로 돌아간것같았습니다',\n",
       " '자습서같이 되어있어서.그냥 꼼꼼히 읽고 확인문제풀고 강의 스근하게 수강하니.6평 문학 1개 비문학 3개 틀려서 90점 받았습니다 .',\n",
       " '강의는 핵심작품만 빠르게 돌려볼수 있어 효율적이고.나머지 작품들은 교재가 워낙 상세해서 혼자공부하기에 너무 편합니다.',\n",
       " '문학에서 이렇게 시간단축해본건 거의 처음인것같아요.',\n",
       " '풀어본 작품 나왔을때 그 쾌감을 느껴보니 이제 1등급이 욕심나네요.',\n",
       " '열심히 달려보겠습니다 .',\n",
       " '재수를 시작하면서 선택과목을 화작에서 언매로 옮겼는데 강의를 들으며 오히려 화작때보다 시간도 단축되고 잔실수도 없이 넘어가네요.',\n",
       " '언매는 방동진이다 라는 말이 괜히 있는게 아닌거 같습니다',\n",
       " '찬란한 1교시를 만들고 오겠습니다',\n",
       " '애매한 부분을 확실하게 정리하기에 최적화된 강의입니다.',\n",
       " '기본 개념부터 방법론까지 상세하게 알려주심.']"
      ]
     },
     "execution_count": 36,
     "metadata": {},
     "output_type": "execute_result"
    }
   ],
   "source": [
    "Dongjin"
   ]
  },
  {
   "cell_type": "code",
   "execution_count": 37,
   "metadata": {},
   "outputs": [],
   "source": [
    "Dongjin = pd.DataFrame(Dongjin, columns=['수강후기내용'])"
   ]
  },
  {
   "cell_type": "code",
   "execution_count": 38,
   "metadata": {},
   "outputs": [],
   "source": [
    "Dongjin.to_csv('dongjin.csv', index=False)"
   ]
  },
  {
   "cell_type": "code",
   "execution_count": null,
   "metadata": {},
   "outputs": [],
   "source": []
  },
  {
   "cell_type": "code",
   "execution_count": null,
   "metadata": {},
   "outputs": [],
   "source": []
  },
  {
   "cell_type": "code",
   "execution_count": null,
   "metadata": {},
   "outputs": [],
   "source": []
  }
 ],
 "metadata": {
  "kernelspec": {
   "display_name": "base",
   "language": "python",
   "name": "python3"
  },
  "language_info": {
   "codemirror_mode": {
    "name": "ipython",
    "version": 3
   },
   "file_extension": ".py",
   "mimetype": "text/x-python",
   "name": "python",
   "nbconvert_exporter": "python",
   "pygments_lexer": "ipython3",
   "version": "3.10.9"
  }
 },
 "nbformat": 4,
 "nbformat_minor": 2
}
