{
 "cells": [
  {
   "cell_type": "markdown",
   "metadata": {},
   "source": [
    "# 오디오 자르기"
   ]
  },
  {
   "cell_type": "code",
   "execution_count": null,
   "metadata": {},
   "outputs": [],
   "source": [
    "import os\n",
    "import librosa\n",
    "import numpy as np\n",
    "import soundfile as sf\n",
    "import natsort\n",
    "\n",
    "# \n",
    "base_path = \"EBSi\\서지나\\[올림포스] 확률과 통계\\\\\"\n",
    "audio_path = base_path\n",
    "save_path = base_path  + \"save\"\n",
    "audio_list = os.listdir(audio_path)\n",
    "\n",
    "#\n",
    "save_list = natsort.natsorted(os.listdir(save_path))"
   ]
  },
  {
   "cell_type": "code",
   "execution_count": null,
   "metadata": {},
   "outputs": [],
   "source": [
    "def trim_audio_data(audio_file, save_file, start_time=0, sec=595):\n",
    "    sr = 44100\n",
    "    y, sr = librosa.load(audio_file, sr=sr)\n",
    "    ny = y[start_time*sr:sr*(sec + start_time)]\n",
    "\n",
    "    sf.write(save_file + f\"_{start_time}.wav\", ny, sr)\n",
    "\n",
    "def cut_audio(audio_list):\n",
    "    for audio_name in audio_list:\n",
    "        if audio_name.find('mp3') != -1:\n",
    "            audio_file = audio_path + audio_name\n",
    "            save_file = save_path + \"\\\\\" + audio_name[:-4]\n",
    "\n",
    "            f = sf.SoundFile(audio_file)\n",
    "            f_sec = f.frames // f.samplerate\n",
    "            print(audio_file, \" seconds, \", f_sec)\n",
    "\n",
    "            sec = 595\n",
    "            for i in range(0,f_sec,sec):\n",
    "                trim_audio_data(audio_file, save_file, i, sec)"
   ]
  },
  {
   "cell_type": "code",
   "execution_count": null,
   "metadata": {},
   "outputs": [],
   "source": [
    "cut_audio(audio_list)"
   ]
  },
  {
   "cell_type": "markdown",
   "metadata": {},
   "source": [
    "# 잡음제거"
   ]
  },
  {
   "cell_type": "code",
   "execution_count": null,
   "metadata": {},
   "outputs": [],
   "source": [
    "# 잡음 제거 함수\n",
    "def noise_reduction(save_list):\n",
    "    for save_name in save_list:\n",
    "        # 파일 경로 결합 및 명령어 실행\n",
    "        command = f'spleeter separate -o \"{base_path}output\" \"{save_path}\\{save_name}\"'\n",
    "        !{command}"
   ]
  },
  {
   "cell_type": "code",
   "execution_count": null,
   "metadata": {},
   "outputs": [],
   "source": [
    "noise_reduction(save_list)"
   ]
  },
  {
   "cell_type": "markdown",
   "metadata": {},
   "source": [
    "# 오디오 합치기"
   ]
  },
  {
   "cell_type": "code",
   "execution_count": null,
   "metadata": {},
   "outputs": [],
   "source": [
    "from pydub import AudioSegment\n",
    "\n",
    "def combine_audio(save_list, base_path):\n",
    "    output_folder = f'{base_path}output'  # output 폴더 경로\n",
    "    \n",
    "    for audio_name in save_list:\n",
    "        if audio_name.find('wav') != -1:\n",
    "            audio_file = audio_name.split('_')[0]\n",
    "            matching_files = [file for file in save_list if audio_file in file]\n",
    "\n",
    "            # 오디오 파일을 순서대로 합치기\n",
    "            combined_audio = AudioSegment.empty()\n",
    "            for file in matching_files:\n",
    "                audio = AudioSegment.from_file(output_folder + '\\\\' + file[:-4] + '\\\\vocals.wav')\n",
    "                combined_audio += audio\n",
    "\n",
    "            # 합쳐진 오디오 파일 저장\n",
    "            combined_audio.export(f\"{base_path}combined\\\\{audio_file}_combined_audio.wav\", format=\"wav\")"
   ]
  },
  {
   "cell_type": "code",
   "execution_count": null,
   "metadata": {},
   "outputs": [],
   "source": [
    "combine_audio(save_list, base_path)"
   ]
  }
 ],
 "metadata": {
  "language_info": {
   "name": "python"
  },
  "orig_nbformat": 4
 },
 "nbformat": 4,
 "nbformat_minor": 2
}
