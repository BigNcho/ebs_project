{
 "cells": [
  {
   "cell_type": "markdown",
   "metadata": {},
   "source": [
    "# 말의 양"
   ]
  },
  {
   "cell_type": "code",
   "execution_count": null,
   "metadata": {},
   "outputs": [],
   "source": [
    "import pandas as pd\n",
    "datadf = pd.read_csv('박자영_[2022 수능완성] 박자영 수학+확률과 통계(유형편).csv')"
   ]
  },
  {
   "cell_type": "code",
   "execution_count": null,
   "metadata": {},
   "outputs": [],
   "source": [
    "silence_time = sum(datadf['침묵시간(초)'])\n",
    "talking_time = sum(datadf['발화시간(초)'])\n",
    "total_time = sum(datadf['총시간'])\n",
    "sumdata = {'침묵시간':[silence_time], '발화시간':[talking_time]}\n",
    "vizdata = pd.DataFrame(sumdata)"
   ]
  },
  {
   "cell_type": "markdown",
   "metadata": {},
   "source": [
    "# 시각화"
   ]
  },
  {
   "cell_type": "code",
   "execution_count": null,
   "metadata": {},
   "outputs": [],
   "source": [
    "import plotly.express as px\n",
    "import pandas as pd\n",
    "\n",
    "# 주어진 데이터\n",
    "# data = {'침묵시간': [5566.396], '발화시간': [89210.099583]}\n",
    "# df = pd.DataFrame(data)\n",
    "\n",
    "# Plotly Express를 사용하여 가로 막대 그래프 생성\n",
    "fig = px.bar(vizdata, orientation='h', title=\"침묵시간 및 발화시간\")\n",
    "\n",
    "# 그래프 크기 조절\n",
    "fig.update_layout(width=800, height=400)\n",
    "\n",
    "# 가로축과 세로축 없애기\n",
    "fig.update_xaxes(showline=False, showgrid=False, zeroline=False, showticklabels=False)\n",
    "fig.update_yaxes(showline=False, showgrid=False, zeroline=False, showticklabels=False)\n",
    "\n",
    "# 그래프 표시\n",
    "fig.show()\n"
   ]
  }
 ],
 "metadata": {
  "language_info": {
   "name": "python"
  },
  "orig_nbformat": 4
 },
 "nbformat": 4,
 "nbformat_minor": 2
}
