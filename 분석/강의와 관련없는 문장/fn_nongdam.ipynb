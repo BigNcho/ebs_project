{
 "cells": [
  {
   "cell_type": "code",
   "execution_count": 13,
   "metadata": {},
   "outputs": [
    {
     "name": "stderr",
     "output_type": "stream",
     "text": [
      "[nltk_data] Downloading package punkt to\n",
      "[nltk_data]     C:\\Users\\user\\AppData\\Roaming\\nltk_data...\n",
      "[nltk_data]   Package punkt is already up-to-date!\n"
     ]
    }
   ],
   "source": [
    "import re # smi 파일에서 텍스트 뽑아내는 모듈\n",
    "import pandas as pd\n",
    "import nltk\n",
    "nltk.download('punkt')\n",
    "from nltk import sent_tokenize\n",
    "\n",
    "\n",
    "def smi_to_df (file_path):\n",
    "    file = open(file_path, 'r', encoding = 'cp949')\n",
    "    wholefile = file.readlines()\n",
    "    # 모든 대문자를 소문자로 변환\n",
    "    wholefile_lower = wholefile.lower()\n",
    "    # 타임스템프와 본문 분리\n",
    "    pattern = re.compile(r'<sync start=(\\d+)><p class=krcc>\\n(.*?)\\n', re.DOTALL)\n",
    "\n",
    "    matches = pattern.findall(''.join(wholefile_lower))\n",
    "\n",
    "    df = pd.DataFrame(matches, columns=['Time_Stamp(s)', 'Text'])\n",
    "    df['Time_Stamp(s)'] = df['Time_Stamp(s)'].apply(lambda x: float(x)/1000)\n",
    "\n",
    "    # Text를 하나의 문장으로 합치기\n",
    "    text = ''.join(df['Text'].tolist())\n",
    "    sentences = sent_tokenize(''.join(text))\n",
    "    nltk_df = pd.DataFrame(sentences, columns=['Text'])\n",
    "\n",
    "    return df, nltk_df\n"
   ]
  },
  {
   "cell_type": "code",
   "execution_count": 95,
   "metadata": {},
   "outputs": [],
   "source": [
    "from konlpy.tag import Komoran\n",
    "from collections import Counter\n",
    "import pandas as pd\n",
    "\n",
    "import plotly.graph_objects as go\n",
    "import os\n",
    "\n",
    "## 용어사전 정의\n",
    "# 불용어\n",
    "with open('./stopword.txt', 'r', encoding='utf-8') as stopwords_file:\n",
    "    # 파일 내용을 줄 단위로 읽어와 리스트로 저장\n",
    "    stopwords = stopwords_file.read().splitlines()\n",
    "\n",
    "## 용어사전\n",
    "# 두 파일의 내용을 읽어와서 합치기 (수업과 관련된 단어, 관련없는 단어) ## 애매한 단어 추가 예정\n",
    "with open('./user_dic.txt', 'r', encoding='utf-8') as file1, open('./user_dic_moo.txt', 'r', encoding='utf-8') as file2,open('./user_dic_uncertain.txt', 'r', encoding='utf-8') as file3:\n",
    "    file1_line = file1.readlines()\n",
    "    file2_line = file2.readlines()\n",
    "    file3_line = file3.readlines()\n",
    "    combined_content = file1.read() + file2.read()\n",
    "\n",
    "# 합친 내용을 새로운 파일에 저장\n",
    "with open('./combined_user_dic.txt', 'w', encoding='utf-8') as combined_file:\n",
    "    combined_file.write(combined_content)\n",
    "\n",
    "def nongdam(file_path):\n",
    "\n",
    "    df, nltk_df = smi_to_df(file_path)\n",
    "    # 특수기호 제거, 한글 숫자만\n",
    "    #df['Text_kor'] = df['Text'].str.replace(\"[^ㄱ-ㅎㅏ-ㅣ가-힣0-9√+\\-×⁰¹²³⁴⁵⁶⁷⁸⁹fxFXnN()´xyz/]\",\" \")\n",
    "    df['Text_kor'] = df['Text'].str.replace(\"[.,]\",\" \")\n",
    "\n",
    "    # 문장 길이 기준으로 일정 길이 이상인 행만 선택\n",
    "    min_sentence_length = 10\n",
    "    df = df[df['Text'].apply(len) >= min_sentence_length]\n",
    "    \n",
    "    # 결측치 제거\n",
    "    rows_to_remove = df[(df['Text_kor'] == ' ')].index\n",
    "    df = df.drop(rows_to_remove)\n",
    "    df.dropna(inplace=True)\n",
    "\n",
    "    ## 문장 토큰화\n",
    "    komoran = Komoran()\n",
    "    # 사용자 용어사전 등록\n",
    "    komoran = Komoran(userdic='./combined_user_dic.txt')\n",
    "\n",
    "    tokenized_words, sentence_nouns_total = [], []\n",
    "\n",
    "    for sentence in df['Text_kor']:\n",
    "        # 토큰화 및 정규화\n",
    "        tokenized_word = komoran.morphs(sentence)\n",
    "        \n",
    "        # 불용어 제거\n",
    "        stopwords_removed_sentence = [word for word in tokenized_word if not word in stopwords]\n",
    "        tokenized_words.append(stopwords_removed_sentence)\n",
    "\n",
    "        # 명사만 추출\n",
    "        nouns = komoran.nouns(sentence)\n",
    "        \n",
    "        # 불용어가 제거된 명사만 저장\n",
    "        nouns_removed_stopwords = [noun for noun in nouns if not noun in stopwords]\n",
    "        nouns_filtered = [noun for noun in nouns_removed_stopwords if len(noun) >= 2]\n",
    "        sentence_nouns_total.append(nouns_filtered)\n",
    "    \n",
    "    df['tokenized_words'] = tokenized_words\n",
    "    # 리스트로 되어 있는것을 단어로 구분\n",
    "    df['tokenized_words'] = df['tokenized_words'].apply(lambda noun_list: ' '.join(map(str, noun_list)))\n",
    "\n",
    "    list1 = []\n",
    "    all_reviews = [item for sublist in sentence_nouns_total for item in sublist]\n",
    "\n",
    "    word_freq = Counter(all_reviews)\n",
    "    top_words = word_freq.most_common()\n",
    "\n",
    "    for word, freq in top_words:\n",
    "        if freq >= 10:\n",
    "            list1.append(word)\n",
    "    \n",
    "    # 강의 단어 리스트 작성\n",
    "    ## 강의 관련 없는 단어\n",
    "    unrelated_list = [line.split('\\t')[0] for line in file2_line]\n",
    "    unrelated_list.append(file_path.split('/')[-3])\n",
    "    ## 구분 애매한 단어\n",
    "    ambiguous_list = [line.split('\\t')[0] for line in file3_line]\n",
    "    ## 강의 연관 단어\n",
    "    list4 = [line.split('\\t')[0] for line in file1_line]\n",
    "    relation_total = list1 + list4\n",
    "    relation_total = [word for word in relation_total if word not in (unrelated_list + ambiguous_list)]\n",
    "\n",
    "    df['강의관련'] = df['tokenized_words'].apply(lambda text: sum(word.lower() in relation_total for word in text.split()))\n",
    "    df['강의상관없는 단어'] = df['tokenized_words'].apply(lambda text: sum(word.lower() in unrelated_list for word in text.split()))\n",
    "    df['애매한 단어'] = df['tokenized_words'].apply(lambda text: sum(word.lower() in ambiguous_list for word in text.split()))\n",
    "\n",
    "    df['환산 점수'] = df['강의관련'] * 3 + df['강의상관없는 단어'] * -3 + df['애매한 단어']\n",
    "\n",
    "    return df, len(df), len(df[df['환산 점수']<=2])\n",
    "    \n",
    "def visualization_df (file_path, t_name = ''):\n",
    "    \n",
    "    df, total_len, target_len =  nongdam(file_path)\n",
    "\n",
    "    labels = ['강의 관련 문장', '관련없는 문장']\n",
    "    values = [total_len - target_len, target_len]\n",
    "    pull = [0, 0.1]\n",
    "\n",
    "    trace = go.Pie(labels=labels, values=values, textinfo='label+percent', pull=pull)\n",
    "\n",
    "    fig = go.Figure(data=trace)\n",
    "\n",
    "    # 레이아웃 설정\n",
    "    fig.update_layout(\n",
    "        title=f'<{t_name}>강의와 상관없는 단어 비율',\n",
    "        showlegend=True,\n",
    "        height=500,  # 그림의 높이 설정\n",
    "        width=700,   # 그림의 너비 설정\n",
    "    )\n",
    "\n",
    "    return fig.show()\n",
    "\n",
    "def get_smi_file_names(path):\n",
    "    \n",
    "    \n",
    "    smi_file_names = []\n",
    "    for file in os.listdir(path):\n",
    "        if file.endswith(\".smi\") and os.path.isfile(os.path.join(path, file)):\n",
    "            smi_file_names.append(file)\n",
    "    return smi_file_names"
   ]
  },
  {
   "cell_type": "markdown",
   "metadata": {},
   "source": []
  },
  {
   "cell_type": "code",
   "execution_count": 31,
   "metadata": {},
   "outputs": [
    {
     "name": "stderr",
     "output_type": "stream",
     "text": [
      "C:\\Users\\user\\AppData\\Local\\Temp\\ipykernel_8752\\1847529638.py:12: FutureWarning: The default value of regex will change from True to False in a future version.\n",
      "  df['Text_kor'] = df['Text'].str.replace(\"[^ㄱ-ㅎㅏ-ㅣ가-힣0-9√+\\-×⁰¹²³⁴⁵⁶⁷⁸⁹fxFXnN()´xyz/]\",\" \")\n",
      "C:\\Users\\user\\AppData\\Local\\Temp\\ipykernel_8752\\1847529638.py:12: FutureWarning: The default value of regex will change from True to False in a future version.\n",
      "  df['Text_kor'] = df['Text'].str.replace(\"[^ㄱ-ㅎㅏ-ㅣ가-힣0-9√+\\-×⁰¹²³⁴⁵⁶⁷⁸⁹fxFXnN()´xyz/]\",\" \")\n",
      "C:\\Users\\user\\AppData\\Local\\Temp\\ipykernel_8752\\1847529638.py:12: FutureWarning: The default value of regex will change from True to False in a future version.\n",
      "  df['Text_kor'] = df['Text'].str.replace(\"[^ㄱ-ㅎㅏ-ㅣ가-힣0-9√+\\-×⁰¹²³⁴⁵⁶⁷⁸⁹fxFXnN()´xyz/]\",\" \")\n",
      "C:\\Users\\user\\AppData\\Local\\Temp\\ipykernel_8752\\1847529638.py:12: FutureWarning: The default value of regex will change from True to False in a future version.\n",
      "  df['Text_kor'] = df['Text'].str.replace(\"[^ㄱ-ㅎㅏ-ㅣ가-힣0-9√+\\-×⁰¹²³⁴⁵⁶⁷⁸⁹fxFXnN()´xyz/]\",\" \")\n",
      "C:\\Users\\user\\AppData\\Local\\Temp\\ipykernel_8752\\1847529638.py:12: FutureWarning: The default value of regex will change from True to False in a future version.\n",
      "  df['Text_kor'] = df['Text'].str.replace(\"[^ㄱ-ㅎㅏ-ㅣ가-힣0-9√+\\-×⁰¹²³⁴⁵⁶⁷⁸⁹fxFXnN()´xyz/]\",\" \")\n",
      "C:\\Users\\user\\AppData\\Local\\Temp\\ipykernel_8752\\1847529638.py:12: FutureWarning: The default value of regex will change from True to False in a future version.\n",
      "  df['Text_kor'] = df['Text'].str.replace(\"[^ㄱ-ㅎㅏ-ㅣ가-힣0-9√+\\-×⁰¹²³⁴⁵⁶⁷⁸⁹fxFXnN()´xyz/]\",\" \")\n",
      "C:\\Users\\user\\AppData\\Local\\Temp\\ipykernel_8752\\1847529638.py:12: FutureWarning: The default value of regex will change from True to False in a future version.\n",
      "  df['Text_kor'] = df['Text'].str.replace(\"[^ㄱ-ㅎㅏ-ㅣ가-힣0-9√+\\-×⁰¹²³⁴⁵⁶⁷⁸⁹fxFXnN()´xyz/]\",\" \")\n",
      "C:\\Users\\user\\AppData\\Local\\Temp\\ipykernel_8752\\1847529638.py:12: FutureWarning: The default value of regex will change from True to False in a future version.\n",
      "  df['Text_kor'] = df['Text'].str.replace(\"[^ㄱ-ㅎㅏ-ㅣ가-힣0-9√+\\-×⁰¹²³⁴⁵⁶⁷⁸⁹fxFXnN()´xyz/]\",\" \")\n",
      "C:\\Users\\user\\AppData\\Local\\Temp\\ipykernel_8752\\1847529638.py:12: FutureWarning: The default value of regex will change from True to False in a future version.\n",
      "  df['Text_kor'] = df['Text'].str.replace(\"[^ㄱ-ㅎㅏ-ㅣ가-힣0-9√+\\-×⁰¹²³⁴⁵⁶⁷⁸⁹fxFXnN()´xyz/]\",\" \")\n",
      "C:\\Users\\user\\AppData\\Local\\Temp\\ipykernel_8752\\1847529638.py:12: FutureWarning: The default value of regex will change from True to False in a future version.\n",
      "  df['Text_kor'] = df['Text'].str.replace(\"[^ㄱ-ㅎㅏ-ㅣ가-힣0-9√+\\-×⁰¹²³⁴⁵⁶⁷⁸⁹fxFXnN()´xyz/]\",\" \")\n",
      "C:\\Users\\user\\AppData\\Local\\Temp\\ipykernel_8752\\1847529638.py:12: FutureWarning: The default value of regex will change from True to False in a future version.\n",
      "  df['Text_kor'] = df['Text'].str.replace(\"[^ㄱ-ㅎㅏ-ㅣ가-힣0-9√+\\-×⁰¹²³⁴⁵⁶⁷⁸⁹fxFXnN()´xyz/]\",\" \")\n",
      "C:\\Users\\user\\AppData\\Local\\Temp\\ipykernel_8752\\1847529638.py:12: FutureWarning: The default value of regex will change from True to False in a future version.\n",
      "  df['Text_kor'] = df['Text'].str.replace(\"[^ㄱ-ㅎㅏ-ㅣ가-힣0-9√+\\-×⁰¹²³⁴⁵⁶⁷⁸⁹fxFXnN()´xyz/]\",\" \")\n",
      "C:\\Users\\user\\AppData\\Local\\Temp\\ipykernel_8752\\1847529638.py:12: FutureWarning: The default value of regex will change from True to False in a future version.\n",
      "  df['Text_kor'] = df['Text'].str.replace(\"[^ㄱ-ㅎㅏ-ㅣ가-힣0-9√+\\-×⁰¹²³⁴⁵⁶⁷⁸⁹fxFXnN()´xyz/]\",\" \")\n",
      "C:\\Users\\user\\AppData\\Local\\Temp\\ipykernel_8752\\1847529638.py:12: FutureWarning: The default value of regex will change from True to False in a future version.\n",
      "  df['Text_kor'] = df['Text'].str.replace(\"[^ㄱ-ㅎㅏ-ㅣ가-힣0-9√+\\-×⁰¹²³⁴⁵⁶⁷⁸⁹fxFXnN()´xyz/]\",\" \")\n",
      "C:\\Users\\user\\AppData\\Local\\Temp\\ipykernel_8752\\1847529638.py:12: FutureWarning: The default value of regex will change from True to False in a future version.\n",
      "  df['Text_kor'] = df['Text'].str.replace(\"[^ㄱ-ㅎㅏ-ㅣ가-힣0-9√+\\-×⁰¹²³⁴⁵⁶⁷⁸⁹fxFXnN()´xyz/]\",\" \")\n",
      "C:\\Users\\user\\AppData\\Local\\Temp\\ipykernel_8752\\1847529638.py:12: FutureWarning: The default value of regex will change from True to False in a future version.\n",
      "  df['Text_kor'] = df['Text'].str.replace(\"[^ㄱ-ㅎㅏ-ㅣ가-힣0-9√+\\-×⁰¹²³⁴⁵⁶⁷⁸⁹fxFXnN()´xyz/]\",\" \")\n",
      "C:\\Users\\user\\AppData\\Local\\Temp\\ipykernel_8752\\1847529638.py:12: FutureWarning: The default value of regex will change from True to False in a future version.\n",
      "  df['Text_kor'] = df['Text'].str.replace(\"[^ㄱ-ㅎㅏ-ㅣ가-힣0-9√+\\-×⁰¹²³⁴⁵⁶⁷⁸⁹fxFXnN()´xyz/]\",\" \")\n",
      "C:\\Users\\user\\AppData\\Local\\Temp\\ipykernel_8752\\1847529638.py:12: FutureWarning: The default value of regex will change from True to False in a future version.\n",
      "  df['Text_kor'] = df['Text'].str.replace(\"[^ㄱ-ㅎㅏ-ㅣ가-힣0-9√+\\-×⁰¹²³⁴⁵⁶⁷⁸⁹fxFXnN()´xyz/]\",\" \")\n",
      "C:\\Users\\user\\AppData\\Local\\Temp\\ipykernel_8752\\1847529638.py:12: FutureWarning: The default value of regex will change from True to False in a future version.\n",
      "  df['Text_kor'] = df['Text'].str.replace(\"[^ㄱ-ㅎㅏ-ㅣ가-힣0-9√+\\-×⁰¹²³⁴⁵⁶⁷⁸⁹fxFXnN()´xyz/]\",\" \")\n",
      "C:\\Users\\user\\AppData\\Local\\Temp\\ipykernel_8752\\1847529638.py:12: FutureWarning: The default value of regex will change from True to False in a future version.\n",
      "  df['Text_kor'] = df['Text'].str.replace(\"[^ㄱ-ㅎㅏ-ㅣ가-힣0-9√+\\-×⁰¹²³⁴⁵⁶⁷⁸⁹fxFXnN()´xyz/]\",\" \")\n",
      "C:\\Users\\user\\AppData\\Local\\Temp\\ipykernel_8752\\1847529638.py:12: FutureWarning: The default value of regex will change from True to False in a future version.\n",
      "  df['Text_kor'] = df['Text'].str.replace(\"[^ㄱ-ㅎㅏ-ㅣ가-힣0-9√+\\-×⁰¹²³⁴⁵⁶⁷⁸⁹fxFXnN()´xyz/]\",\" \")\n",
      "C:\\Users\\user\\AppData\\Local\\Temp\\ipykernel_8752\\1847529638.py:12: FutureWarning: The default value of regex will change from True to False in a future version.\n",
      "  df['Text_kor'] = df['Text'].str.replace(\"[^ㄱ-ㅎㅏ-ㅣ가-힣0-9√+\\-×⁰¹²³⁴⁵⁶⁷⁸⁹fxFXnN()´xyz/]\",\" \")\n",
      "C:\\Users\\user\\AppData\\Local\\Temp\\ipykernel_8752\\1847529638.py:12: FutureWarning: The default value of regex will change from True to False in a future version.\n",
      "  df['Text_kor'] = df['Text'].str.replace(\"[^ㄱ-ㅎㅏ-ㅣ가-힣0-9√+\\-×⁰¹²³⁴⁵⁶⁷⁸⁹fxFXnN()´xyz/]\",\" \")\n",
      "C:\\Users\\user\\AppData\\Local\\Temp\\ipykernel_8752\\1847529638.py:12: FutureWarning: The default value of regex will change from True to False in a future version.\n",
      "  df['Text_kor'] = df['Text'].str.replace(\"[^ㄱ-ㅎㅏ-ㅣ가-힣0-9√+\\-×⁰¹²³⁴⁵⁶⁷⁸⁹fxFXnN()´xyz/]\",\" \")\n",
      "C:\\Users\\user\\AppData\\Local\\Temp\\ipykernel_8752\\1847529638.py:12: FutureWarning: The default value of regex will change from True to False in a future version.\n",
      "  df['Text_kor'] = df['Text'].str.replace(\"[^ㄱ-ㅎㅏ-ㅣ가-힣0-9√+\\-×⁰¹²³⁴⁵⁶⁷⁸⁹fxFXnN()´xyz/]\",\" \")\n",
      "C:\\Users\\user\\AppData\\Local\\Temp\\ipykernel_8752\\1847529638.py:12: FutureWarning: The default value of regex will change from True to False in a future version.\n",
      "  df['Text_kor'] = df['Text'].str.replace(\"[^ㄱ-ㅎㅏ-ㅣ가-힣0-9√+\\-×⁰¹²³⁴⁵⁶⁷⁸⁹fxFXnN()´xyz/]\",\" \")\n",
      "C:\\Users\\user\\AppData\\Local\\Temp\\ipykernel_8752\\1847529638.py:12: FutureWarning: The default value of regex will change from True to False in a future version.\n",
      "  df['Text_kor'] = df['Text'].str.replace(\"[^ㄱ-ㅎㅏ-ㅣ가-힣0-9√+\\-×⁰¹²³⁴⁵⁶⁷⁸⁹fxFXnN()´xyz/]\",\" \")\n",
      "C:\\Users\\user\\AppData\\Local\\Temp\\ipykernel_8752\\1847529638.py:12: FutureWarning: The default value of regex will change from True to False in a future version.\n",
      "  df['Text_kor'] = df['Text'].str.replace(\"[^ㄱ-ㅎㅏ-ㅣ가-힣0-9√+\\-×⁰¹²³⁴⁵⁶⁷⁸⁹fxFXnN()´xyz/]\",\" \")\n",
      "C:\\Users\\user\\AppData\\Local\\Temp\\ipykernel_8752\\1847529638.py:12: FutureWarning: The default value of regex will change from True to False in a future version.\n",
      "  df['Text_kor'] = df['Text'].str.replace(\"[^ㄱ-ㅎㅏ-ㅣ가-힣0-9√+\\-×⁰¹²³⁴⁵⁶⁷⁸⁹fxFXnN()´xyz/]\",\" \")\n",
      "C:\\Users\\user\\AppData\\Local\\Temp\\ipykernel_8752\\1847529638.py:12: FutureWarning: The default value of regex will change from True to False in a future version.\n",
      "  df['Text_kor'] = df['Text'].str.replace(\"[^ㄱ-ㅎㅏ-ㅣ가-힣0-9√+\\-×⁰¹²³⁴⁵⁶⁷⁸⁹fxFXnN()´xyz/]\",\" \")\n",
      "C:\\Users\\user\\AppData\\Local\\Temp\\ipykernel_8752\\1847529638.py:12: FutureWarning: The default value of regex will change from True to False in a future version.\n",
      "  df['Text_kor'] = df['Text'].str.replace(\"[^ㄱ-ㅎㅏ-ㅣ가-힣0-9√+\\-×⁰¹²³⁴⁵⁶⁷⁸⁹fxFXnN()´xyz/]\",\" \")\n",
      "C:\\Users\\user\\AppData\\Local\\Temp\\ipykernel_8752\\1847529638.py:12: FutureWarning: The default value of regex will change from True to False in a future version.\n",
      "  df['Text_kor'] = df['Text'].str.replace(\"[^ㄱ-ㅎㅏ-ㅣ가-힣0-9√+\\-×⁰¹²³⁴⁵⁶⁷⁸⁹fxFXnN()´xyz/]\",\" \")\n",
      "C:\\Users\\user\\AppData\\Local\\Temp\\ipykernel_8752\\1847529638.py:12: FutureWarning: The default value of regex will change from True to False in a future version.\n",
      "  df['Text_kor'] = df['Text'].str.replace(\"[^ㄱ-ㅎㅏ-ㅣ가-힣0-9√+\\-×⁰¹²³⁴⁵⁶⁷⁸⁹fxFXnN()´xyz/]\",\" \")\n",
      "C:\\Users\\user\\AppData\\Local\\Temp\\ipykernel_8752\\1847529638.py:12: FutureWarning: The default value of regex will change from True to False in a future version.\n",
      "  df['Text_kor'] = df['Text'].str.replace(\"[^ㄱ-ㅎㅏ-ㅣ가-힣0-9√+\\-×⁰¹²³⁴⁵⁶⁷⁸⁹fxFXnN()´xyz/]\",\" \")\n",
      "C:\\Users\\user\\AppData\\Local\\Temp\\ipykernel_8752\\1847529638.py:12: FutureWarning: The default value of regex will change from True to False in a future version.\n",
      "  df['Text_kor'] = df['Text'].str.replace(\"[^ㄱ-ㅎㅏ-ㅣ가-힣0-9√+\\-×⁰¹²³⁴⁵⁶⁷⁸⁹fxFXnN()´xyz/]\",\" \")\n",
      "C:\\Users\\user\\AppData\\Local\\Temp\\ipykernel_8752\\1847529638.py:12: FutureWarning: The default value of regex will change from True to False in a future version.\n",
      "  df['Text_kor'] = df['Text'].str.replace(\"[^ㄱ-ㅎㅏ-ㅣ가-힣0-9√+\\-×⁰¹²³⁴⁵⁶⁷⁸⁹fxFXnN()´xyz/]\",\" \")\n",
      "C:\\Users\\user\\AppData\\Local\\Temp\\ipykernel_8752\\1847529638.py:12: FutureWarning: The default value of regex will change from True to False in a future version.\n",
      "  df['Text_kor'] = df['Text'].str.replace(\"[^ㄱ-ㅎㅏ-ㅣ가-힣0-9√+\\-×⁰¹²³⁴⁵⁶⁷⁸⁹fxFXnN()´xyz/]\",\" \")\n",
      "C:\\Users\\user\\AppData\\Local\\Temp\\ipykernel_8752\\1847529638.py:12: FutureWarning: The default value of regex will change from True to False in a future version.\n",
      "  df['Text_kor'] = df['Text'].str.replace(\"[^ㄱ-ㅎㅏ-ㅣ가-힣0-9√+\\-×⁰¹²³⁴⁵⁶⁷⁸⁹fxFXnN()´xyz/]\",\" \")\n",
      "C:\\Users\\user\\AppData\\Local\\Temp\\ipykernel_8752\\1847529638.py:12: FutureWarning: The default value of regex will change from True to False in a future version.\n",
      "  df['Text_kor'] = df['Text'].str.replace(\"[^ㄱ-ㅎㅏ-ㅣ가-힣0-9√+\\-×⁰¹²³⁴⁵⁶⁷⁸⁹fxFXnN()´xyz/]\",\" \")\n",
      "C:\\Users\\user\\AppData\\Local\\Temp\\ipykernel_8752\\1847529638.py:12: FutureWarning: The default value of regex will change from True to False in a future version.\n",
      "  df['Text_kor'] = df['Text'].str.replace(\"[^ㄱ-ㅎㅏ-ㅣ가-힣0-9√+\\-×⁰¹²³⁴⁵⁶⁷⁸⁹fxFXnN()´xyz/]\",\" \")\n",
      "C:\\Users\\user\\AppData\\Local\\Temp\\ipykernel_8752\\1847529638.py:12: FutureWarning: The default value of regex will change from True to False in a future version.\n",
      "  df['Text_kor'] = df['Text'].str.replace(\"[^ㄱ-ㅎㅏ-ㅣ가-힣0-9√+\\-×⁰¹²³⁴⁵⁶⁷⁸⁹fxFXnN()´xyz/]\",\" \")\n",
      "C:\\Users\\user\\AppData\\Local\\Temp\\ipykernel_8752\\1847529638.py:12: FutureWarning: The default value of regex will change from True to False in a future version.\n",
      "  df['Text_kor'] = df['Text'].str.replace(\"[^ㄱ-ㅎㅏ-ㅣ가-힣0-9√+\\-×⁰¹²³⁴⁵⁶⁷⁸⁹fxFXnN()´xyz/]\",\" \")\n",
      "C:\\Users\\user\\AppData\\Local\\Temp\\ipykernel_8752\\1847529638.py:12: FutureWarning: The default value of regex will change from True to False in a future version.\n",
      "  df['Text_kor'] = df['Text'].str.replace(\"[^ㄱ-ㅎㅏ-ㅣ가-힣0-9√+\\-×⁰¹²³⁴⁵⁶⁷⁸⁹fxFXnN()´xyz/]\",\" \")\n",
      "C:\\Users\\user\\AppData\\Local\\Temp\\ipykernel_8752\\1847529638.py:12: FutureWarning: The default value of regex will change from True to False in a future version.\n",
      "  df['Text_kor'] = df['Text'].str.replace(\"[^ㄱ-ㅎㅏ-ㅣ가-힣0-9√+\\-×⁰¹²³⁴⁵⁶⁷⁸⁹fxFXnN()´xyz/]\",\" \")\n",
      "C:\\Users\\user\\AppData\\Local\\Temp\\ipykernel_8752\\1847529638.py:12: FutureWarning: The default value of regex will change from True to False in a future version.\n",
      "  df['Text_kor'] = df['Text'].str.replace(\"[^ㄱ-ㅎㅏ-ㅣ가-힣0-9√+\\-×⁰¹²³⁴⁵⁶⁷⁸⁹fxFXnN()´xyz/]\",\" \")\n",
      "C:\\Users\\user\\AppData\\Local\\Temp\\ipykernel_8752\\1847529638.py:12: FutureWarning: The default value of regex will change from True to False in a future version.\n",
      "  df['Text_kor'] = df['Text'].str.replace(\"[^ㄱ-ㅎㅏ-ㅣ가-힣0-9√+\\-×⁰¹²³⁴⁵⁶⁷⁸⁹fxFXnN()´xyz/]\",\" \")\n",
      "C:\\Users\\user\\AppData\\Local\\Temp\\ipykernel_8752\\1847529638.py:12: FutureWarning: The default value of regex will change from True to False in a future version.\n",
      "  df['Text_kor'] = df['Text'].str.replace(\"[^ㄱ-ㅎㅏ-ㅣ가-힣0-9√+\\-×⁰¹²³⁴⁵⁶⁷⁸⁹fxFXnN()´xyz/]\",\" \")\n",
      "C:\\Users\\user\\AppData\\Local\\Temp\\ipykernel_8752\\1847529638.py:12: FutureWarning: The default value of regex will change from True to False in a future version.\n",
      "  df['Text_kor'] = df['Text'].str.replace(\"[^ㄱ-ㅎㅏ-ㅣ가-힣0-9√+\\-×⁰¹²³⁴⁵⁶⁷⁸⁹fxFXnN()´xyz/]\",\" \")\n",
      "C:\\Users\\user\\AppData\\Local\\Temp\\ipykernel_8752\\1847529638.py:12: FutureWarning: The default value of regex will change from True to False in a future version.\n",
      "  df['Text_kor'] = df['Text'].str.replace(\"[^ㄱ-ㅎㅏ-ㅣ가-힣0-9√+\\-×⁰¹²³⁴⁵⁶⁷⁸⁹fxFXnN()´xyz/]\",\" \")\n",
      "C:\\Users\\user\\AppData\\Local\\Temp\\ipykernel_8752\\1847529638.py:12: FutureWarning: The default value of regex will change from True to False in a future version.\n",
      "  df['Text_kor'] = df['Text'].str.replace(\"[^ㄱ-ㅎㅏ-ㅣ가-힣0-9√+\\-×⁰¹²³⁴⁵⁶⁷⁸⁹fxFXnN()´xyz/]\",\" \")\n"
     ]
    }
   ],
   "source": [
    "smi_file_path = \"../강의스크립트/수학/서지나/[올림포스] 확률과 통계/\"\n",
    "smi_files = get_smi_file_names(smi_file_path)\n",
    "\n",
    "list_append = []\n",
    "for file_name in smi_files:\n",
    "    df, total_len, target_len = nongdam(smi_file_path + file_name)\n",
    "    T_name = smi_file_path.split('/')[-3]\n",
    "    class_name = smi_file_path.split('/')[-2]\n",
    "    list_append.append(['수학',T_name, class_name, file_name,total_len, target_len])"
   ]
  },
  {
   "cell_type": "code",
   "execution_count": 32,
   "metadata": {},
   "outputs": [
    {
     "data": {
      "text/html": [
       "<div>\n",
       "<style scoped>\n",
       "    .dataframe tbody tr th:only-of-type {\n",
       "        vertical-align: middle;\n",
       "    }\n",
       "\n",
       "    .dataframe tbody tr th {\n",
       "        vertical-align: top;\n",
       "    }\n",
       "\n",
       "    .dataframe thead th {\n",
       "        text-align: right;\n",
       "    }\n",
       "</style>\n",
       "<table border=\"1\" class=\"dataframe\">\n",
       "  <thead>\n",
       "    <tr style=\"text-align: right;\">\n",
       "      <th></th>\n",
       "      <th>과목</th>\n",
       "      <th>선생님이름</th>\n",
       "      <th>강좌명</th>\n",
       "      <th>file_name</th>\n",
       "      <th>total_len</th>\n",
       "      <th>taget_len</th>\n",
       "    </tr>\n",
       "  </thead>\n",
       "  <tbody>\n",
       "    <tr>\n",
       "      <th>0</th>\n",
       "      <td>수학</td>\n",
       "      <td>서지나</td>\n",
       "      <td>[올림포스] 확률과 통계</td>\n",
       "      <td>10강. 이항정리(4)_(고2-기본).smi</td>\n",
       "      <td>572</td>\n",
       "      <td>210</td>\n",
       "    </tr>\n",
       "    <tr>\n",
       "      <th>1</th>\n",
       "      <td>수학</td>\n",
       "      <td>서지나</td>\n",
       "      <td>[올림포스] 확률과 통계</td>\n",
       "      <td>11강. 이항정리(5)_(고2-기본).smi</td>\n",
       "      <td>426</td>\n",
       "      <td>124</td>\n",
       "    </tr>\n",
       "    <tr>\n",
       "      <th>2</th>\n",
       "      <td>수학</td>\n",
       "      <td>서지나</td>\n",
       "      <td>[올림포스] 확률과 통계</td>\n",
       "      <td>12강. 이항정리(6)_(고2-기본).smi</td>\n",
       "      <td>541</td>\n",
       "      <td>183</td>\n",
       "    </tr>\n",
       "    <tr>\n",
       "      <th>3</th>\n",
       "      <td>수학</td>\n",
       "      <td>서지나</td>\n",
       "      <td>[올림포스] 확률과 통계</td>\n",
       "      <td>13강. 1단원 대단원 종합문제(1)_(고2-기본).smi</td>\n",
       "      <td>635</td>\n",
       "      <td>239</td>\n",
       "    </tr>\n",
       "    <tr>\n",
       "      <th>4</th>\n",
       "      <td>수학</td>\n",
       "      <td>서지나</td>\n",
       "      <td>[올림포스] 확률과 통계</td>\n",
       "      <td>14강. 1단원 대단원 종합문제(2)_(고2-기본).smi</td>\n",
       "      <td>444</td>\n",
       "      <td>116</td>\n",
       "    </tr>\n",
       "    <tr>\n",
       "      <th>5</th>\n",
       "      <td>수학</td>\n",
       "      <td>서지나</td>\n",
       "      <td>[올림포스] 확률과 통계</td>\n",
       "      <td>15강. 1단원 대단원 종합문제(3)_(고2-기본).smi</td>\n",
       "      <td>501</td>\n",
       "      <td>187</td>\n",
       "    </tr>\n",
       "    <tr>\n",
       "      <th>6</th>\n",
       "      <td>수학</td>\n",
       "      <td>서지나</td>\n",
       "      <td>[올림포스] 확률과 통계</td>\n",
       "      <td>16강. 확률의 뜻과 활용(1)_(고2-기본).smi</td>\n",
       "      <td>551</td>\n",
       "      <td>187</td>\n",
       "    </tr>\n",
       "    <tr>\n",
       "      <th>7</th>\n",
       "      <td>수학</td>\n",
       "      <td>서지나</td>\n",
       "      <td>[올림포스] 확률과 통계</td>\n",
       "      <td>17강. 확률의 뜻과 활용(2)_(고2-기본).smi</td>\n",
       "      <td>444</td>\n",
       "      <td>93</td>\n",
       "    </tr>\n",
       "    <tr>\n",
       "      <th>8</th>\n",
       "      <td>수학</td>\n",
       "      <td>서지나</td>\n",
       "      <td>[올림포스] 확률과 통계</td>\n",
       "      <td>18강. 확률의 뜻과 활용(3)_(고2-기본).smi</td>\n",
       "      <td>521</td>\n",
       "      <td>220</td>\n",
       "    </tr>\n",
       "    <tr>\n",
       "      <th>9</th>\n",
       "      <td>수학</td>\n",
       "      <td>서지나</td>\n",
       "      <td>[올림포스] 확률과 통계</td>\n",
       "      <td>19강. 확률의 뜻과 활용(4)_(고2-기본).smi</td>\n",
       "      <td>594</td>\n",
       "      <td>221</td>\n",
       "    </tr>\n",
       "    <tr>\n",
       "      <th>10</th>\n",
       "      <td>수학</td>\n",
       "      <td>서지나</td>\n",
       "      <td>[올림포스] 확률과 통계</td>\n",
       "      <td>1강. 순열과 조합(1)_(고2-기본).smi</td>\n",
       "      <td>542</td>\n",
       "      <td>207</td>\n",
       "    </tr>\n",
       "    <tr>\n",
       "      <th>11</th>\n",
       "      <td>수학</td>\n",
       "      <td>서지나</td>\n",
       "      <td>[올림포스] 확률과 통계</td>\n",
       "      <td>20강. 확률의 뜻과 활용(5)_(고2-기본).smi</td>\n",
       "      <td>474</td>\n",
       "      <td>127</td>\n",
       "    </tr>\n",
       "    <tr>\n",
       "      <th>12</th>\n",
       "      <td>수학</td>\n",
       "      <td>서지나</td>\n",
       "      <td>[올림포스] 확률과 통계</td>\n",
       "      <td>21강. 조건부확률(1)_(고2-기본).smi</td>\n",
       "      <td>464</td>\n",
       "      <td>153</td>\n",
       "    </tr>\n",
       "    <tr>\n",
       "      <th>13</th>\n",
       "      <td>수학</td>\n",
       "      <td>서지나</td>\n",
       "      <td>[올림포스] 확률과 통계</td>\n",
       "      <td>22강. 조건부확률(2)_(고2-기본).smi</td>\n",
       "      <td>506</td>\n",
       "      <td>151</td>\n",
       "    </tr>\n",
       "    <tr>\n",
       "      <th>14</th>\n",
       "      <td>수학</td>\n",
       "      <td>서지나</td>\n",
       "      <td>[올림포스] 확률과 통계</td>\n",
       "      <td>23강. 조건부확률(3)_(고2-기본).smi</td>\n",
       "      <td>418</td>\n",
       "      <td>112</td>\n",
       "    </tr>\n",
       "    <tr>\n",
       "      <th>15</th>\n",
       "      <td>수학</td>\n",
       "      <td>서지나</td>\n",
       "      <td>[올림포스] 확률과 통계</td>\n",
       "      <td>24강. 조건부확률(4)_(고2-기본).smi</td>\n",
       "      <td>472</td>\n",
       "      <td>107</td>\n",
       "    </tr>\n",
       "    <tr>\n",
       "      <th>16</th>\n",
       "      <td>수학</td>\n",
       "      <td>서지나</td>\n",
       "      <td>[올림포스] 확률과 통계</td>\n",
       "      <td>25강. 조건부확률(5)_(고2-기본).smi</td>\n",
       "      <td>524</td>\n",
       "      <td>160</td>\n",
       "    </tr>\n",
       "    <tr>\n",
       "      <th>17</th>\n",
       "      <td>수학</td>\n",
       "      <td>서지나</td>\n",
       "      <td>[올림포스] 확률과 통계</td>\n",
       "      <td>26강. 조건부확률(6)_(고2-기본).smi</td>\n",
       "      <td>404</td>\n",
       "      <td>117</td>\n",
       "    </tr>\n",
       "    <tr>\n",
       "      <th>18</th>\n",
       "      <td>수학</td>\n",
       "      <td>서지나</td>\n",
       "      <td>[올림포스] 확률과 통계</td>\n",
       "      <td>27강. 2단원 종합 문제(1)_(고2-기본).smi</td>\n",
       "      <td>554</td>\n",
       "      <td>162</td>\n",
       "    </tr>\n",
       "    <tr>\n",
       "      <th>19</th>\n",
       "      <td>수학</td>\n",
       "      <td>서지나</td>\n",
       "      <td>[올림포스] 확률과 통계</td>\n",
       "      <td>28강. 2단원 종합 문제(2)_(고2-기본).smi</td>\n",
       "      <td>588</td>\n",
       "      <td>244</td>\n",
       "    </tr>\n",
       "    <tr>\n",
       "      <th>20</th>\n",
       "      <td>수학</td>\n",
       "      <td>서지나</td>\n",
       "      <td>[올림포스] 확률과 통계</td>\n",
       "      <td>29강. 2단원 종합 문제(3)_(고2-기본).smi</td>\n",
       "      <td>422</td>\n",
       "      <td>62</td>\n",
       "    </tr>\n",
       "    <tr>\n",
       "      <th>21</th>\n",
       "      <td>수학</td>\n",
       "      <td>서지나</td>\n",
       "      <td>[올림포스] 확률과 통계</td>\n",
       "      <td>2강. 순열과 조합(2)_(고2-기본).smi</td>\n",
       "      <td>430</td>\n",
       "      <td>74</td>\n",
       "    </tr>\n",
       "    <tr>\n",
       "      <th>22</th>\n",
       "      <td>수학</td>\n",
       "      <td>서지나</td>\n",
       "      <td>[올림포스] 확률과 통계</td>\n",
       "      <td>30강. 이산확률변수의 확률분포(1)_(고2-기본).smi</td>\n",
       "      <td>545</td>\n",
       "      <td>175</td>\n",
       "    </tr>\n",
       "    <tr>\n",
       "      <th>23</th>\n",
       "      <td>수학</td>\n",
       "      <td>서지나</td>\n",
       "      <td>[올림포스] 확률과 통계</td>\n",
       "      <td>31강. 이산확률변수의 확률분포(2)_(고2-기본).smi</td>\n",
       "      <td>591</td>\n",
       "      <td>214</td>\n",
       "    </tr>\n",
       "    <tr>\n",
       "      <th>24</th>\n",
       "      <td>수학</td>\n",
       "      <td>서지나</td>\n",
       "      <td>[올림포스] 확률과 통계</td>\n",
       "      <td>32강. 이산확률변수의 확률분포(3)_(고2-기본).smi</td>\n",
       "      <td>444</td>\n",
       "      <td>113</td>\n",
       "    </tr>\n",
       "    <tr>\n",
       "      <th>25</th>\n",
       "      <td>수학</td>\n",
       "      <td>서지나</td>\n",
       "      <td>[올림포스] 확률과 통계</td>\n",
       "      <td>33강. 이산확률변수의 확률분포(4)_(고2-기본).smi</td>\n",
       "      <td>517</td>\n",
       "      <td>198</td>\n",
       "    </tr>\n",
       "    <tr>\n",
       "      <th>26</th>\n",
       "      <td>수학</td>\n",
       "      <td>서지나</td>\n",
       "      <td>[올림포스] 확률과 통계</td>\n",
       "      <td>34강. 이산확률변수의 확률분포(5)_(고2-기본).smi</td>\n",
       "      <td>573</td>\n",
       "      <td>227</td>\n",
       "    </tr>\n",
       "    <tr>\n",
       "      <th>27</th>\n",
       "      <td>수학</td>\n",
       "      <td>서지나</td>\n",
       "      <td>[올림포스] 확률과 통계</td>\n",
       "      <td>35강. 이산확률변수의 확률분포(6)_(고2-기본).smi</td>\n",
       "      <td>423</td>\n",
       "      <td>91</td>\n",
       "    </tr>\n",
       "    <tr>\n",
       "      <th>28</th>\n",
       "      <td>수학</td>\n",
       "      <td>서지나</td>\n",
       "      <td>[올림포스] 확률과 통계</td>\n",
       "      <td>36강. 이산확률변수의 확률분포(7)_(고2-기본).smi</td>\n",
       "      <td>542</td>\n",
       "      <td>244</td>\n",
       "    </tr>\n",
       "    <tr>\n",
       "      <th>29</th>\n",
       "      <td>수학</td>\n",
       "      <td>서지나</td>\n",
       "      <td>[올림포스] 확률과 통계</td>\n",
       "      <td>37강. 정규분포(1)_(고2-기본).smi</td>\n",
       "      <td>466</td>\n",
       "      <td>141</td>\n",
       "    </tr>\n",
       "    <tr>\n",
       "      <th>30</th>\n",
       "      <td>수학</td>\n",
       "      <td>서지나</td>\n",
       "      <td>[올림포스] 확률과 통계</td>\n",
       "      <td>38강. 정규분포(2)_(고2-기본).smi</td>\n",
       "      <td>376</td>\n",
       "      <td>76</td>\n",
       "    </tr>\n",
       "    <tr>\n",
       "      <th>31</th>\n",
       "      <td>수학</td>\n",
       "      <td>서지나</td>\n",
       "      <td>[올림포스] 확률과 통계</td>\n",
       "      <td>39강. 정규분포(3)_(고2-기본).smi</td>\n",
       "      <td>503</td>\n",
       "      <td>132</td>\n",
       "    </tr>\n",
       "    <tr>\n",
       "      <th>32</th>\n",
       "      <td>수학</td>\n",
       "      <td>서지나</td>\n",
       "      <td>[올림포스] 확률과 통계</td>\n",
       "      <td>3강. 순열과 조합(3)_(고2-기본).smi</td>\n",
       "      <td>542</td>\n",
       "      <td>150</td>\n",
       "    </tr>\n",
       "    <tr>\n",
       "      <th>33</th>\n",
       "      <td>수학</td>\n",
       "      <td>서지나</td>\n",
       "      <td>[올림포스] 확률과 통계</td>\n",
       "      <td>40강. 정규분포(4)_(고2-기본).smi</td>\n",
       "      <td>526</td>\n",
       "      <td>193</td>\n",
       "    </tr>\n",
       "    <tr>\n",
       "      <th>34</th>\n",
       "      <td>수학</td>\n",
       "      <td>서지나</td>\n",
       "      <td>[올림포스] 확률과 통계</td>\n",
       "      <td>41강. 정규분포(5)_(고2-기본).smi</td>\n",
       "      <td>373</td>\n",
       "      <td>82</td>\n",
       "    </tr>\n",
       "    <tr>\n",
       "      <th>35</th>\n",
       "      <td>수학</td>\n",
       "      <td>서지나</td>\n",
       "      <td>[올림포스] 확률과 통계</td>\n",
       "      <td>42강. 통계적추정(1)_(고2-기본).smi</td>\n",
       "      <td>486</td>\n",
       "      <td>155</td>\n",
       "    </tr>\n",
       "    <tr>\n",
       "      <th>36</th>\n",
       "      <td>수학</td>\n",
       "      <td>서지나</td>\n",
       "      <td>[올림포스] 확률과 통계</td>\n",
       "      <td>43강. 통계적추정(2)_(고2-기본).smi</td>\n",
       "      <td>582</td>\n",
       "      <td>148</td>\n",
       "    </tr>\n",
       "    <tr>\n",
       "      <th>37</th>\n",
       "      <td>수학</td>\n",
       "      <td>서지나</td>\n",
       "      <td>[올림포스] 확률과 통계</td>\n",
       "      <td>44강. 통계적추정(3)_(고2-기본).smi</td>\n",
       "      <td>350</td>\n",
       "      <td>57</td>\n",
       "    </tr>\n",
       "    <tr>\n",
       "      <th>38</th>\n",
       "      <td>수학</td>\n",
       "      <td>서지나</td>\n",
       "      <td>[올림포스] 확률과 통계</td>\n",
       "      <td>45강. 통계적추정(4)_(고2-기본).smi</td>\n",
       "      <td>515</td>\n",
       "      <td>151</td>\n",
       "    </tr>\n",
       "    <tr>\n",
       "      <th>39</th>\n",
       "      <td>수학</td>\n",
       "      <td>서지나</td>\n",
       "      <td>[올림포스] 확률과 통계</td>\n",
       "      <td>46강. 통계적추정(5)_(고2-기본).smi</td>\n",
       "      <td>502</td>\n",
       "      <td>149</td>\n",
       "    </tr>\n",
       "    <tr>\n",
       "      <th>40</th>\n",
       "      <td>수학</td>\n",
       "      <td>서지나</td>\n",
       "      <td>[올림포스] 확률과 통계</td>\n",
       "      <td>47강. 통계적추정(6)_(고2-기본).smi</td>\n",
       "      <td>365</td>\n",
       "      <td>76</td>\n",
       "    </tr>\n",
       "    <tr>\n",
       "      <th>41</th>\n",
       "      <td>수학</td>\n",
       "      <td>서지나</td>\n",
       "      <td>[올림포스] 확률과 통계</td>\n",
       "      <td>48강. 3단원 종합 문제 (1)_(고2-기본).smi</td>\n",
       "      <td>492</td>\n",
       "      <td>163</td>\n",
       "    </tr>\n",
       "    <tr>\n",
       "      <th>42</th>\n",
       "      <td>수학</td>\n",
       "      <td>서지나</td>\n",
       "      <td>[올림포스] 확률과 통계</td>\n",
       "      <td>49강. 3단원 종합 문제 (2)_(고2-기본).smi</td>\n",
       "      <td>482</td>\n",
       "      <td>164</td>\n",
       "    </tr>\n",
       "    <tr>\n",
       "      <th>43</th>\n",
       "      <td>수학</td>\n",
       "      <td>서지나</td>\n",
       "      <td>[올림포스] 확률과 통계</td>\n",
       "      <td>4강. 순열과 조합(4)_(고2-기본).smi</td>\n",
       "      <td>570</td>\n",
       "      <td>186</td>\n",
       "    </tr>\n",
       "    <tr>\n",
       "      <th>44</th>\n",
       "      <td>수학</td>\n",
       "      <td>서지나</td>\n",
       "      <td>[올림포스] 확률과 통계</td>\n",
       "      <td>50강. 3단원 종합 문제 (3)_(고2-기본).smi</td>\n",
       "      <td>381</td>\n",
       "      <td>111</td>\n",
       "    </tr>\n",
       "    <tr>\n",
       "      <th>45</th>\n",
       "      <td>수학</td>\n",
       "      <td>서지나</td>\n",
       "      <td>[올림포스] 확률과 통계</td>\n",
       "      <td>5강. 순열과 조합(5)_(고2-기본).smi</td>\n",
       "      <td>442</td>\n",
       "      <td>100</td>\n",
       "    </tr>\n",
       "    <tr>\n",
       "      <th>46</th>\n",
       "      <td>수학</td>\n",
       "      <td>서지나</td>\n",
       "      <td>[올림포스] 확률과 통계</td>\n",
       "      <td>6강. 순열과 조합(6)_(고2-기본).smi</td>\n",
       "      <td>559</td>\n",
       "      <td>189</td>\n",
       "    </tr>\n",
       "    <tr>\n",
       "      <th>47</th>\n",
       "      <td>수학</td>\n",
       "      <td>서지나</td>\n",
       "      <td>[올림포스] 확률과 통계</td>\n",
       "      <td>7강. 이항정리(1)_(고2-기본).smi</td>\n",
       "      <td>563</td>\n",
       "      <td>212</td>\n",
       "    </tr>\n",
       "    <tr>\n",
       "      <th>48</th>\n",
       "      <td>수학</td>\n",
       "      <td>서지나</td>\n",
       "      <td>[올림포스] 확률과 통계</td>\n",
       "      <td>8강. 이항정리(2)_(고2-기본).smi</td>\n",
       "      <td>444</td>\n",
       "      <td>132</td>\n",
       "    </tr>\n",
       "    <tr>\n",
       "      <th>49</th>\n",
       "      <td>수학</td>\n",
       "      <td>서지나</td>\n",
       "      <td>[올림포스] 확률과 통계</td>\n",
       "      <td>9강. 이항정리(3)_(고2-기본).smi</td>\n",
       "      <td>515</td>\n",
       "      <td>136</td>\n",
       "    </tr>\n",
       "  </tbody>\n",
       "</table>\n",
       "</div>"
      ],
      "text/plain": [
       "    과목 선생님이름            강좌명                         file_name  total_len  \\\n",
       "0   수학   서지나  [올림포스] 확률과 통계          10강. 이항정리(4)_(고2-기본).smi        572   \n",
       "1   수학   서지나  [올림포스] 확률과 통계          11강. 이항정리(5)_(고2-기본).smi        426   \n",
       "2   수학   서지나  [올림포스] 확률과 통계          12강. 이항정리(6)_(고2-기본).smi        541   \n",
       "3   수학   서지나  [올림포스] 확률과 통계  13강. 1단원 대단원 종합문제(1)_(고2-기본).smi        635   \n",
       "4   수학   서지나  [올림포스] 확률과 통계  14강. 1단원 대단원 종합문제(2)_(고2-기본).smi        444   \n",
       "5   수학   서지나  [올림포스] 확률과 통계  15강. 1단원 대단원 종합문제(3)_(고2-기본).smi        501   \n",
       "6   수학   서지나  [올림포스] 확률과 통계     16강. 확률의 뜻과 활용(1)_(고2-기본).smi        551   \n",
       "7   수학   서지나  [올림포스] 확률과 통계     17강. 확률의 뜻과 활용(2)_(고2-기본).smi        444   \n",
       "8   수학   서지나  [올림포스] 확률과 통계     18강. 확률의 뜻과 활용(3)_(고2-기본).smi        521   \n",
       "9   수학   서지나  [올림포스] 확률과 통계     19강. 확률의 뜻과 활용(4)_(고2-기본).smi        594   \n",
       "10  수학   서지나  [올림포스] 확률과 통계         1강. 순열과 조합(1)_(고2-기본).smi        542   \n",
       "11  수학   서지나  [올림포스] 확률과 통계     20강. 확률의 뜻과 활용(5)_(고2-기본).smi        474   \n",
       "12  수학   서지나  [올림포스] 확률과 통계         21강. 조건부확률(1)_(고2-기본).smi        464   \n",
       "13  수학   서지나  [올림포스] 확률과 통계         22강. 조건부확률(2)_(고2-기본).smi        506   \n",
       "14  수학   서지나  [올림포스] 확률과 통계         23강. 조건부확률(3)_(고2-기본).smi        418   \n",
       "15  수학   서지나  [올림포스] 확률과 통계         24강. 조건부확률(4)_(고2-기본).smi        472   \n",
       "16  수학   서지나  [올림포스] 확률과 통계         25강. 조건부확률(5)_(고2-기본).smi        524   \n",
       "17  수학   서지나  [올림포스] 확률과 통계         26강. 조건부확률(6)_(고2-기본).smi        404   \n",
       "18  수학   서지나  [올림포스] 확률과 통계     27강. 2단원 종합 문제(1)_(고2-기본).smi        554   \n",
       "19  수학   서지나  [올림포스] 확률과 통계     28강. 2단원 종합 문제(2)_(고2-기본).smi        588   \n",
       "20  수학   서지나  [올림포스] 확률과 통계     29강. 2단원 종합 문제(3)_(고2-기본).smi        422   \n",
       "21  수학   서지나  [올림포스] 확률과 통계         2강. 순열과 조합(2)_(고2-기본).smi        430   \n",
       "22  수학   서지나  [올림포스] 확률과 통계  30강. 이산확률변수의 확률분포(1)_(고2-기본).smi        545   \n",
       "23  수학   서지나  [올림포스] 확률과 통계  31강. 이산확률변수의 확률분포(2)_(고2-기본).smi        591   \n",
       "24  수학   서지나  [올림포스] 확률과 통계  32강. 이산확률변수의 확률분포(3)_(고2-기본).smi        444   \n",
       "25  수학   서지나  [올림포스] 확률과 통계  33강. 이산확률변수의 확률분포(4)_(고2-기본).smi        517   \n",
       "26  수학   서지나  [올림포스] 확률과 통계  34강. 이산확률변수의 확률분포(5)_(고2-기본).smi        573   \n",
       "27  수학   서지나  [올림포스] 확률과 통계  35강. 이산확률변수의 확률분포(6)_(고2-기본).smi        423   \n",
       "28  수학   서지나  [올림포스] 확률과 통계  36강. 이산확률변수의 확률분포(7)_(고2-기본).smi        542   \n",
       "29  수학   서지나  [올림포스] 확률과 통계          37강. 정규분포(1)_(고2-기본).smi        466   \n",
       "30  수학   서지나  [올림포스] 확률과 통계          38강. 정규분포(2)_(고2-기본).smi        376   \n",
       "31  수학   서지나  [올림포스] 확률과 통계          39강. 정규분포(3)_(고2-기본).smi        503   \n",
       "32  수학   서지나  [올림포스] 확률과 통계         3강. 순열과 조합(3)_(고2-기본).smi        542   \n",
       "33  수학   서지나  [올림포스] 확률과 통계          40강. 정규분포(4)_(고2-기본).smi        526   \n",
       "34  수학   서지나  [올림포스] 확률과 통계          41강. 정규분포(5)_(고2-기본).smi        373   \n",
       "35  수학   서지나  [올림포스] 확률과 통계         42강. 통계적추정(1)_(고2-기본).smi        486   \n",
       "36  수학   서지나  [올림포스] 확률과 통계         43강. 통계적추정(2)_(고2-기본).smi        582   \n",
       "37  수학   서지나  [올림포스] 확률과 통계         44강. 통계적추정(3)_(고2-기본).smi        350   \n",
       "38  수학   서지나  [올림포스] 확률과 통계         45강. 통계적추정(4)_(고2-기본).smi        515   \n",
       "39  수학   서지나  [올림포스] 확률과 통계         46강. 통계적추정(5)_(고2-기본).smi        502   \n",
       "40  수학   서지나  [올림포스] 확률과 통계         47강. 통계적추정(6)_(고2-기본).smi        365   \n",
       "41  수학   서지나  [올림포스] 확률과 통계    48강. 3단원 종합 문제 (1)_(고2-기본).smi        492   \n",
       "42  수학   서지나  [올림포스] 확률과 통계    49강. 3단원 종합 문제 (2)_(고2-기본).smi        482   \n",
       "43  수학   서지나  [올림포스] 확률과 통계         4강. 순열과 조합(4)_(고2-기본).smi        570   \n",
       "44  수학   서지나  [올림포스] 확률과 통계    50강. 3단원 종합 문제 (3)_(고2-기본).smi        381   \n",
       "45  수학   서지나  [올림포스] 확률과 통계         5강. 순열과 조합(5)_(고2-기본).smi        442   \n",
       "46  수학   서지나  [올림포스] 확률과 통계         6강. 순열과 조합(6)_(고2-기본).smi        559   \n",
       "47  수학   서지나  [올림포스] 확률과 통계           7강. 이항정리(1)_(고2-기본).smi        563   \n",
       "48  수학   서지나  [올림포스] 확률과 통계           8강. 이항정리(2)_(고2-기본).smi        444   \n",
       "49  수학   서지나  [올림포스] 확률과 통계           9강. 이항정리(3)_(고2-기본).smi        515   \n",
       "\n",
       "    taget_len  \n",
       "0         210  \n",
       "1         124  \n",
       "2         183  \n",
       "3         239  \n",
       "4         116  \n",
       "5         187  \n",
       "6         187  \n",
       "7          93  \n",
       "8         220  \n",
       "9         221  \n",
       "10        207  \n",
       "11        127  \n",
       "12        153  \n",
       "13        151  \n",
       "14        112  \n",
       "15        107  \n",
       "16        160  \n",
       "17        117  \n",
       "18        162  \n",
       "19        244  \n",
       "20         62  \n",
       "21         74  \n",
       "22        175  \n",
       "23        214  \n",
       "24        113  \n",
       "25        198  \n",
       "26        227  \n",
       "27         91  \n",
       "28        244  \n",
       "29        141  \n",
       "30         76  \n",
       "31        132  \n",
       "32        150  \n",
       "33        193  \n",
       "34         82  \n",
       "35        155  \n",
       "36        148  \n",
       "37         57  \n",
       "38        151  \n",
       "39        149  \n",
       "40         76  \n",
       "41        163  \n",
       "42        164  \n",
       "43        186  \n",
       "44        111  \n",
       "45        100  \n",
       "46        189  \n",
       "47        212  \n",
       "48        132  \n",
       "49        136  "
      ]
     },
     "execution_count": 32,
     "metadata": {},
     "output_type": "execute_result"
    }
   ],
   "source": [
    "df = pd.DataFrame(list_append, columns=['과목', '선생님이름','강좌명', 'file_name', 'total_len', 'taget_len'])\n",
    "df"
   ]
  },
  {
   "cell_type": "code",
   "execution_count": 33,
   "metadata": {},
   "outputs": [],
   "source": [
    "# 데이터프레임을 CSV 파일로 저장\n",
    "csv_file_path = \"서지나.csv\"\n",
    "df.to_csv(csv_file_path, index=False, encoding=\"utf-8\")"
   ]
  },
  {
   "cell_type": "markdown",
   "metadata": {},
   "source": [
    "# 전체 데이터 시각화"
   ]
  },
  {
   "cell_type": "code",
   "execution_count": 5,
   "metadata": {},
   "outputs": [
    {
     "name": "stderr",
     "output_type": "stream",
     "text": [
      "C:\\Users\\user\\AppData\\Local\\Temp\\ipykernel_17088\\2516668489.py:25: FutureWarning: The default value of regex will change from True to False in a future version.\n",
      "  df['Text_kor'] = df['Text'].str.replace(\"[^ㄱ-ㅎㅏ-ㅣ가-힣0-9√+\\-×⁰¹²³⁴⁵⁶⁷⁸⁹fxFXnN()´xyz/]\",\" \")\n",
      "C:\\Users\\user\\AppData\\Local\\Temp\\ipykernel_17088\\2516668489.py:25: FutureWarning: The default value of regex will change from True to False in a future version.\n",
      "  df['Text_kor'] = df['Text'].str.replace(\"[^ㄱ-ㅎㅏ-ㅣ가-힣0-9√+\\-×⁰¹²³⁴⁵⁶⁷⁸⁹fxFXnN()´xyz/]\",\" \")\n",
      "C:\\Users\\user\\AppData\\Local\\Temp\\ipykernel_17088\\2516668489.py:25: FutureWarning: The default value of regex will change from True to False in a future version.\n",
      "  df['Text_kor'] = df['Text'].str.replace(\"[^ㄱ-ㅎㅏ-ㅣ가-힣0-9√+\\-×⁰¹²³⁴⁵⁶⁷⁸⁹fxFXnN()´xyz/]\",\" \")\n"
     ]
    },
    {
     "data": {
      "application/vnd.plotly.v1+json": {
       "config": {
        "plotlyServerURL": "https://plot.ly"
       },
       "data": [
        {
         "labels": [
          "강의 관련 문장",
          "관련없는 문장"
         ],
         "pull": [
          0,
          0.1
         ],
         "textinfo": "label+percent",
         "type": "pie",
         "values": [
          529,
          38
         ]
        }
       ],
       "layout": {
        "height": 500,
        "showlegend": true,
        "template": {
         "data": {
          "bar": [
           {
            "error_x": {
             "color": "#2a3f5f"
            },
            "error_y": {
             "color": "#2a3f5f"
            },
            "marker": {
             "line": {
              "color": "#E5ECF6",
              "width": 0.5
             },
             "pattern": {
              "fillmode": "overlay",
              "size": 10,
              "solidity": 0.2
             }
            },
            "type": "bar"
           }
          ],
          "barpolar": [
           {
            "marker": {
             "line": {
              "color": "#E5ECF6",
              "width": 0.5
             },
             "pattern": {
              "fillmode": "overlay",
              "size": 10,
              "solidity": 0.2
             }
            },
            "type": "barpolar"
           }
          ],
          "carpet": [
           {
            "aaxis": {
             "endlinecolor": "#2a3f5f",
             "gridcolor": "white",
             "linecolor": "white",
             "minorgridcolor": "white",
             "startlinecolor": "#2a3f5f"
            },
            "baxis": {
             "endlinecolor": "#2a3f5f",
             "gridcolor": "white",
             "linecolor": "white",
             "minorgridcolor": "white",
             "startlinecolor": "#2a3f5f"
            },
            "type": "carpet"
           }
          ],
          "choropleth": [
           {
            "colorbar": {
             "outlinewidth": 0,
             "ticks": ""
            },
            "type": "choropleth"
           }
          ],
          "contour": [
           {
            "colorbar": {
             "outlinewidth": 0,
             "ticks": ""
            },
            "colorscale": [
             [
              0,
              "#0d0887"
             ],
             [
              0.1111111111111111,
              "#46039f"
             ],
             [
              0.2222222222222222,
              "#7201a8"
             ],
             [
              0.3333333333333333,
              "#9c179e"
             ],
             [
              0.4444444444444444,
              "#bd3786"
             ],
             [
              0.5555555555555556,
              "#d8576b"
             ],
             [
              0.6666666666666666,
              "#ed7953"
             ],
             [
              0.7777777777777778,
              "#fb9f3a"
             ],
             [
              0.8888888888888888,
              "#fdca26"
             ],
             [
              1,
              "#f0f921"
             ]
            ],
            "type": "contour"
           }
          ],
          "contourcarpet": [
           {
            "colorbar": {
             "outlinewidth": 0,
             "ticks": ""
            },
            "type": "contourcarpet"
           }
          ],
          "heatmap": [
           {
            "colorbar": {
             "outlinewidth": 0,
             "ticks": ""
            },
            "colorscale": [
             [
              0,
              "#0d0887"
             ],
             [
              0.1111111111111111,
              "#46039f"
             ],
             [
              0.2222222222222222,
              "#7201a8"
             ],
             [
              0.3333333333333333,
              "#9c179e"
             ],
             [
              0.4444444444444444,
              "#bd3786"
             ],
             [
              0.5555555555555556,
              "#d8576b"
             ],
             [
              0.6666666666666666,
              "#ed7953"
             ],
             [
              0.7777777777777778,
              "#fb9f3a"
             ],
             [
              0.8888888888888888,
              "#fdca26"
             ],
             [
              1,
              "#f0f921"
             ]
            ],
            "type": "heatmap"
           }
          ],
          "heatmapgl": [
           {
            "colorbar": {
             "outlinewidth": 0,
             "ticks": ""
            },
            "colorscale": [
             [
              0,
              "#0d0887"
             ],
             [
              0.1111111111111111,
              "#46039f"
             ],
             [
              0.2222222222222222,
              "#7201a8"
             ],
             [
              0.3333333333333333,
              "#9c179e"
             ],
             [
              0.4444444444444444,
              "#bd3786"
             ],
             [
              0.5555555555555556,
              "#d8576b"
             ],
             [
              0.6666666666666666,
              "#ed7953"
             ],
             [
              0.7777777777777778,
              "#fb9f3a"
             ],
             [
              0.8888888888888888,
              "#fdca26"
             ],
             [
              1,
              "#f0f921"
             ]
            ],
            "type": "heatmapgl"
           }
          ],
          "histogram": [
           {
            "marker": {
             "pattern": {
              "fillmode": "overlay",
              "size": 10,
              "solidity": 0.2
             }
            },
            "type": "histogram"
           }
          ],
          "histogram2d": [
           {
            "colorbar": {
             "outlinewidth": 0,
             "ticks": ""
            },
            "colorscale": [
             [
              0,
              "#0d0887"
             ],
             [
              0.1111111111111111,
              "#46039f"
             ],
             [
              0.2222222222222222,
              "#7201a8"
             ],
             [
              0.3333333333333333,
              "#9c179e"
             ],
             [
              0.4444444444444444,
              "#bd3786"
             ],
             [
              0.5555555555555556,
              "#d8576b"
             ],
             [
              0.6666666666666666,
              "#ed7953"
             ],
             [
              0.7777777777777778,
              "#fb9f3a"
             ],
             [
              0.8888888888888888,
              "#fdca26"
             ],
             [
              1,
              "#f0f921"
             ]
            ],
            "type": "histogram2d"
           }
          ],
          "histogram2dcontour": [
           {
            "colorbar": {
             "outlinewidth": 0,
             "ticks": ""
            },
            "colorscale": [
             [
              0,
              "#0d0887"
             ],
             [
              0.1111111111111111,
              "#46039f"
             ],
             [
              0.2222222222222222,
              "#7201a8"
             ],
             [
              0.3333333333333333,
              "#9c179e"
             ],
             [
              0.4444444444444444,
              "#bd3786"
             ],
             [
              0.5555555555555556,
              "#d8576b"
             ],
             [
              0.6666666666666666,
              "#ed7953"
             ],
             [
              0.7777777777777778,
              "#fb9f3a"
             ],
             [
              0.8888888888888888,
              "#fdca26"
             ],
             [
              1,
              "#f0f921"
             ]
            ],
            "type": "histogram2dcontour"
           }
          ],
          "mesh3d": [
           {
            "colorbar": {
             "outlinewidth": 0,
             "ticks": ""
            },
            "type": "mesh3d"
           }
          ],
          "parcoords": [
           {
            "line": {
             "colorbar": {
              "outlinewidth": 0,
              "ticks": ""
             }
            },
            "type": "parcoords"
           }
          ],
          "pie": [
           {
            "automargin": true,
            "type": "pie"
           }
          ],
          "scatter": [
           {
            "fillpattern": {
             "fillmode": "overlay",
             "size": 10,
             "solidity": 0.2
            },
            "type": "scatter"
           }
          ],
          "scatter3d": [
           {
            "line": {
             "colorbar": {
              "outlinewidth": 0,
              "ticks": ""
             }
            },
            "marker": {
             "colorbar": {
              "outlinewidth": 0,
              "ticks": ""
             }
            },
            "type": "scatter3d"
           }
          ],
          "scattercarpet": [
           {
            "marker": {
             "colorbar": {
              "outlinewidth": 0,
              "ticks": ""
             }
            },
            "type": "scattercarpet"
           }
          ],
          "scattergeo": [
           {
            "marker": {
             "colorbar": {
              "outlinewidth": 0,
              "ticks": ""
             }
            },
            "type": "scattergeo"
           }
          ],
          "scattergl": [
           {
            "marker": {
             "colorbar": {
              "outlinewidth": 0,
              "ticks": ""
             }
            },
            "type": "scattergl"
           }
          ],
          "scattermapbox": [
           {
            "marker": {
             "colorbar": {
              "outlinewidth": 0,
              "ticks": ""
             }
            },
            "type": "scattermapbox"
           }
          ],
          "scatterpolar": [
           {
            "marker": {
             "colorbar": {
              "outlinewidth": 0,
              "ticks": ""
             }
            },
            "type": "scatterpolar"
           }
          ],
          "scatterpolargl": [
           {
            "marker": {
             "colorbar": {
              "outlinewidth": 0,
              "ticks": ""
             }
            },
            "type": "scatterpolargl"
           }
          ],
          "scatterternary": [
           {
            "marker": {
             "colorbar": {
              "outlinewidth": 0,
              "ticks": ""
             }
            },
            "type": "scatterternary"
           }
          ],
          "surface": [
           {
            "colorbar": {
             "outlinewidth": 0,
             "ticks": ""
            },
            "colorscale": [
             [
              0,
              "#0d0887"
             ],
             [
              0.1111111111111111,
              "#46039f"
             ],
             [
              0.2222222222222222,
              "#7201a8"
             ],
             [
              0.3333333333333333,
              "#9c179e"
             ],
             [
              0.4444444444444444,
              "#bd3786"
             ],
             [
              0.5555555555555556,
              "#d8576b"
             ],
             [
              0.6666666666666666,
              "#ed7953"
             ],
             [
              0.7777777777777778,
              "#fb9f3a"
             ],
             [
              0.8888888888888888,
              "#fdca26"
             ],
             [
              1,
              "#f0f921"
             ]
            ],
            "type": "surface"
           }
          ],
          "table": [
           {
            "cells": {
             "fill": {
              "color": "#EBF0F8"
             },
             "line": {
              "color": "white"
             }
            },
            "header": {
             "fill": {
              "color": "#C8D4E3"
             },
             "line": {
              "color": "white"
             }
            },
            "type": "table"
           }
          ]
         },
         "layout": {
          "annotationdefaults": {
           "arrowcolor": "#2a3f5f",
           "arrowhead": 0,
           "arrowwidth": 1
          },
          "autotypenumbers": "strict",
          "coloraxis": {
           "colorbar": {
            "outlinewidth": 0,
            "ticks": ""
           }
          },
          "colorscale": {
           "diverging": [
            [
             0,
             "#8e0152"
            ],
            [
             0.1,
             "#c51b7d"
            ],
            [
             0.2,
             "#de77ae"
            ],
            [
             0.3,
             "#f1b6da"
            ],
            [
             0.4,
             "#fde0ef"
            ],
            [
             0.5,
             "#f7f7f7"
            ],
            [
             0.6,
             "#e6f5d0"
            ],
            [
             0.7,
             "#b8e186"
            ],
            [
             0.8,
             "#7fbc41"
            ],
            [
             0.9,
             "#4d9221"
            ],
            [
             1,
             "#276419"
            ]
           ],
           "sequential": [
            [
             0,
             "#0d0887"
            ],
            [
             0.1111111111111111,
             "#46039f"
            ],
            [
             0.2222222222222222,
             "#7201a8"
            ],
            [
             0.3333333333333333,
             "#9c179e"
            ],
            [
             0.4444444444444444,
             "#bd3786"
            ],
            [
             0.5555555555555556,
             "#d8576b"
            ],
            [
             0.6666666666666666,
             "#ed7953"
            ],
            [
             0.7777777777777778,
             "#fb9f3a"
            ],
            [
             0.8888888888888888,
             "#fdca26"
            ],
            [
             1,
             "#f0f921"
            ]
           ],
           "sequentialminus": [
            [
             0,
             "#0d0887"
            ],
            [
             0.1111111111111111,
             "#46039f"
            ],
            [
             0.2222222222222222,
             "#7201a8"
            ],
            [
             0.3333333333333333,
             "#9c179e"
            ],
            [
             0.4444444444444444,
             "#bd3786"
            ],
            [
             0.5555555555555556,
             "#d8576b"
            ],
            [
             0.6666666666666666,
             "#ed7953"
            ],
            [
             0.7777777777777778,
             "#fb9f3a"
            ],
            [
             0.8888888888888888,
             "#fdca26"
            ],
            [
             1,
             "#f0f921"
            ]
           ]
          },
          "colorway": [
           "#636efa",
           "#EF553B",
           "#00cc96",
           "#ab63fa",
           "#FFA15A",
           "#19d3f3",
           "#FF6692",
           "#B6E880",
           "#FF97FF",
           "#FECB52"
          ],
          "font": {
           "color": "#2a3f5f"
          },
          "geo": {
           "bgcolor": "white",
           "lakecolor": "white",
           "landcolor": "#E5ECF6",
           "showlakes": true,
           "showland": true,
           "subunitcolor": "white"
          },
          "hoverlabel": {
           "align": "left"
          },
          "hovermode": "closest",
          "mapbox": {
           "style": "light"
          },
          "paper_bgcolor": "white",
          "plot_bgcolor": "#E5ECF6",
          "polar": {
           "angularaxis": {
            "gridcolor": "white",
            "linecolor": "white",
            "ticks": ""
           },
           "bgcolor": "#E5ECF6",
           "radialaxis": {
            "gridcolor": "white",
            "linecolor": "white",
            "ticks": ""
           }
          },
          "scene": {
           "xaxis": {
            "backgroundcolor": "#E5ECF6",
            "gridcolor": "white",
            "gridwidth": 2,
            "linecolor": "white",
            "showbackground": true,
            "ticks": "",
            "zerolinecolor": "white"
           },
           "yaxis": {
            "backgroundcolor": "#E5ECF6",
            "gridcolor": "white",
            "gridwidth": 2,
            "linecolor": "white",
            "showbackground": true,
            "ticks": "",
            "zerolinecolor": "white"
           },
           "zaxis": {
            "backgroundcolor": "#E5ECF6",
            "gridcolor": "white",
            "gridwidth": 2,
            "linecolor": "white",
            "showbackground": true,
            "ticks": "",
            "zerolinecolor": "white"
           }
          },
          "shapedefaults": {
           "line": {
            "color": "#2a3f5f"
           }
          },
          "ternary": {
           "aaxis": {
            "gridcolor": "white",
            "linecolor": "white",
            "ticks": ""
           },
           "baxis": {
            "gridcolor": "white",
            "linecolor": "white",
            "ticks": ""
           },
           "bgcolor": "#E5ECF6",
           "caxis": {
            "gridcolor": "white",
            "linecolor": "white",
            "ticks": ""
           }
          },
          "title": {
           "x": 0.05
          },
          "xaxis": {
           "automargin": true,
           "gridcolor": "white",
           "linecolor": "white",
           "ticks": "",
           "title": {
            "standoff": 15
           },
           "zerolinecolor": "white",
           "zerolinewidth": 2
          },
          "yaxis": {
           "automargin": true,
           "gridcolor": "white",
           "linecolor": "white",
           "ticks": "",
           "title": {
            "standoff": 15
           },
           "zerolinecolor": "white",
           "zerolinewidth": 2
          }
         }
        },
        "title": {
         "text": "<정승제>강의와 상관없는 단어 비율"
        },
        "width": 700
       }
      }
     },
     "metadata": {},
     "output_type": "display_data"
    }
   ],
   "source": [
    "smi_file_path = \"../유튜브 스크립트/[2021 수능특강] 정승제 확률과 통계/\"\n",
    "smi_files = get_smi_file_names(smi_file_path)\n",
    "\n",
    "list_append = []\n",
    "for file_name in smi_files:\n",
    "    df, total_len, target_len = nongdam(smi_file_path + file_name)\n",
    "    \n",
    "    list_append.append([file_name,total_len, target_len])\n",
    "\n",
    "data = pd.DataFrame(list_append, columns = ['파일명', '전체 문장 개수', '타겟 개수'])\n",
    "data\n",
    "\n",
    "t_name = '정승제'\n",
    "total_len = data['전체 문장 개수'].sum()\n",
    "target_len = data['타겟 개수'].sum()\n",
    "\n",
    "labels = ['강의 관련 문장', '관련없는 문장']\n",
    "values = [total_len - target_len, target_len]\n",
    "pull = [0, 0.1]\n",
    "\n",
    "trace = go.Pie(labels=labels, values=values, textinfo='label+percent', pull=pull)\n",
    "\n",
    "fig = go.Figure(data=trace)\n",
    "\n",
    "# 레이아웃 설정\n",
    "fig.update_layout(\n",
    "    title=f'<{t_name}>강의와 상관없는 단어 비율',\n",
    "    showlegend=True,\n",
    "    height=500,  # 그림의 높이 설정\n",
    "    width=700,   # 그림의 너비 설정\n",
    ")\n",
    "\n",
    "fig.show()"
   ]
  },
  {
   "cell_type": "code",
   "execution_count": null,
   "metadata": {},
   "outputs": [],
   "source": []
  }
 ],
 "metadata": {
  "kernelspec": {
   "display_name": "base",
   "language": "python",
   "name": "python3"
  },
  "language_info": {
   "codemirror_mode": {
    "name": "ipython",
    "version": 3
   },
   "file_extension": ".py",
   "mimetype": "text/x-python",
   "name": "python",
   "nbconvert_exporter": "python",
   "pygments_lexer": "ipython3",
   "version": "3.10.9"
  }
 },
 "nbformat": 4,
 "nbformat_minor": 2
}
